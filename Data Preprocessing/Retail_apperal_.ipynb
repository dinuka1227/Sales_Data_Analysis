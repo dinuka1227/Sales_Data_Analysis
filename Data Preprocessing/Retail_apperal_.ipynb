{
 "cells": [
  {
   "cell_type": "markdown",
   "id": "2a7c034d-5d52-48ee-a4e5-312186a2d5fe",
   "metadata": {},
   "source": [
    "IMPORT LIBRARIES\n",
    "=="
   ]
  },
  {
   "cell_type": "code",
   "execution_count": 545,
   "id": "dad23724-3e12-4dc6-afd3-4cc1907acbea",
   "metadata": {},
   "outputs": [],
   "source": [
    "import pandas as pd\n",
    "import seaborn as sns\n",
    "import matplotlib.pyplot as plt\n",
    "from IPython.display import FileLink"
   ]
  },
  {
   "cell_type": "markdown",
   "id": "83b59610-7eb2-497a-b98b-6258d19c1fc6",
   "metadata": {},
   "source": [
    "**Importing Data set**"
   ]
  },
  {
   "cell_type": "code",
   "execution_count": 548,
   "id": "ffb46e75-7400-4d60-a477-4f49b4320123",
   "metadata": {},
   "outputs": [],
   "source": [
    "df = pd.read_csv(\"Retail_Apparel_Data_06.02.25_v1.csv\")"
   ]
  },
  {
   "cell_type": "code",
   "execution_count": 189,
   "id": "e1a625a7-196b-4329-9074-a15991c5d0d1",
   "metadata": {},
   "outputs": [
    {
     "data": {
      "text/html": [
       "<div>\n",
       "<style scoped>\n",
       "    .dataframe tbody tr th:only-of-type {\n",
       "        vertical-align: middle;\n",
       "    }\n",
       "\n",
       "    .dataframe tbody tr th {\n",
       "        vertical-align: top;\n",
       "    }\n",
       "\n",
       "    .dataframe thead th {\n",
       "        text-align: right;\n",
       "    }\n",
       "</style>\n",
       "<table border=\"1\" class=\"dataframe\">\n",
       "  <thead>\n",
       "    <tr style=\"text-align: right;\">\n",
       "      <th></th>\n",
       "      <th>Invoice Number</th>\n",
       "      <th>Date Time</th>\n",
       "      <th>Customer ID</th>\n",
       "      <th>Product ID</th>\n",
       "      <th>Quantity</th>\n",
       "      <th>Price per Unit</th>\n",
       "      <th>Return Status</th>\n",
       "      <th>Sales Channel</th>\n",
       "      <th>Total Sales</th>\n",
       "      <th>Customer Age Group</th>\n",
       "      <th>Region</th>\n",
       "      <th>Product Category</th>\n",
       "    </tr>\n",
       "  </thead>\n",
       "  <tbody>\n",
       "    <tr>\n",
       "      <th>0</th>\n",
       "      <td>10000</td>\n",
       "      <td>01/01/2021 10:20</td>\n",
       "      <td>74</td>\n",
       "      <td>3</td>\n",
       "      <td>2</td>\n",
       "      <td>24.00</td>\n",
       "      <td>Not Returned</td>\n",
       "      <td>In-Store</td>\n",
       "      <td>48.00</td>\n",
       "      <td>26-35</td>\n",
       "      <td>West</td>\n",
       "      <td>Footwear</td>\n",
       "    </tr>\n",
       "    <tr>\n",
       "      <th>1</th>\n",
       "      <td>10001</td>\n",
       "      <td>08/01/2021 03:10</td>\n",
       "      <td>92</td>\n",
       "      <td>10</td>\n",
       "      <td>6</td>\n",
       "      <td>40.24</td>\n",
       "      <td>Not Returned</td>\n",
       "      <td>In-Store</td>\n",
       "      <td>241.44</td>\n",
       "      <td>18-25</td>\n",
       "      <td>South</td>\n",
       "      <td>Footwear</td>\n",
       "    </tr>\n",
       "    <tr>\n",
       "      <th>2</th>\n",
       "      <td>1000</td>\n",
       "      <td>05/01/2021 20:24</td>\n",
       "      <td>86</td>\n",
       "      <td>20</td>\n",
       "      <td>5</td>\n",
       "      <td>25.96</td>\n",
       "      <td>Not Returned</td>\n",
       "      <td>Online</td>\n",
       "      <td>129.80</td>\n",
       "      <td>18-25</td>\n",
       "      <td>East</td>\n",
       "      <td>Clothing</td>\n",
       "    </tr>\n",
       "    <tr>\n",
       "      <th>3</th>\n",
       "      <td>10002</td>\n",
       "      <td>11/01/2021 03:43</td>\n",
       "      <td>57</td>\n",
       "      <td>11</td>\n",
       "      <td>6</td>\n",
       "      <td>85.86</td>\n",
       "      <td>Not Returned</td>\n",
       "      <td>Online</td>\n",
       "      <td>515.16</td>\n",
       "      <td>46-55</td>\n",
       "      <td>North</td>\n",
       "      <td>Clothing</td>\n",
       "    </tr>\n",
       "    <tr>\n",
       "      <th>4</th>\n",
       "      <td>10003</td>\n",
       "      <td>02/01/2021 07:26</td>\n",
       "      <td>73</td>\n",
       "      <td>25</td>\n",
       "      <td>5</td>\n",
       "      <td>72.88</td>\n",
       "      <td>Not Returned</td>\n",
       "      <td>In-Store</td>\n",
       "      <td>364.40</td>\n",
       "      <td>56+</td>\n",
       "      <td>West</td>\n",
       "      <td>Clothing</td>\n",
       "    </tr>\n",
       "  </tbody>\n",
       "</table>\n",
       "</div>"
      ],
      "text/plain": [
       "   Invoice Number         Date Time  Customer ID  Product ID  Quantity  \\\n",
       "0           10000  01/01/2021 10:20           74           3         2   \n",
       "1           10001  08/01/2021 03:10           92          10         6   \n",
       "2            1000  05/01/2021 20:24           86          20         5   \n",
       "3           10002  11/01/2021 03:43           57          11         6   \n",
       "4           10003  02/01/2021 07:26           73          25         5   \n",
       "\n",
       "   Price per Unit Return Status Sales Channel  Total Sales Customer Age Group  \\\n",
       "0           24.00  Not Returned      In-Store        48.00              26-35   \n",
       "1           40.24  Not Returned      In-Store       241.44              18-25   \n",
       "2           25.96  Not Returned        Online       129.80              18-25   \n",
       "3           85.86  Not Returned        Online       515.16              46-55   \n",
       "4           72.88  Not Returned      In-Store       364.40                56+   \n",
       "\n",
       "  Region Product Category  \n",
       "0   West         Footwear  \n",
       "1  South         Footwear  \n",
       "2   East         Clothing  \n",
       "3  North         Clothing  \n",
       "4   West         Clothing  "
      ]
     },
     "execution_count": 189,
     "metadata": {},
     "output_type": "execute_result"
    }
   ],
   "source": [
    "df.head(5)"
   ]
  },
  {
   "cell_type": "code",
   "execution_count": 259,
   "id": "f907a660-13e7-4d2e-8ae3-93423424f459",
   "metadata": {
    "scrolled": true
   },
   "outputs": [
    {
     "name": "stdout",
     "output_type": "stream",
     "text": [
      "<class 'pandas.core.frame.DataFrame'>\n",
      "RangeIndex: 16898 entries, 0 to 16897\n",
      "Data columns (total 12 columns):\n",
      " #   Column              Non-Null Count  Dtype  \n",
      "---  ------              --------------  -----  \n",
      " 0   Invoice Number      16898 non-null  int64  \n",
      " 1   Date Time           16898 non-null  object \n",
      " 2   Customer ID         16898 non-null  int64  \n",
      " 3   Product ID          16898 non-null  int64  \n",
      " 4   Quantity            16898 non-null  int64  \n",
      " 5   Price per Unit      16898 non-null  float64\n",
      " 6   Return Status       16898 non-null  object \n",
      " 7   Sales Channel       16898 non-null  object \n",
      " 8   Total Sales         16898 non-null  float64\n",
      " 9   Customer Age Group  16552 non-null  object \n",
      " 10  Region              16898 non-null  object \n",
      " 11  Product Category    16898 non-null  object \n",
      "dtypes: float64(2), int64(4), object(6)\n",
      "memory usage: 1.5+ MB\n"
     ]
    }
   ],
   "source": [
    "df.info()"
   ]
  },
  {
   "cell_type": "markdown",
   "id": "6da4a93c-37fb-4cc4-b937-442e89f28823",
   "metadata": {},
   "source": [
    "**Removing NULL and Duplicates**"
   ]
  },
  {
   "cell_type": "code",
   "execution_count": 550,
   "id": "92957447-f0c0-4517-a4eb-8d1d21cae8d4",
   "metadata": {},
   "outputs": [
    {
     "data": {
      "text/plain": [
       "Invoice Number          0\n",
       "Date Time               0\n",
       "Customer ID             0\n",
       "Product ID              0\n",
       "Quantity                0\n",
       "Price per Unit          0\n",
       "Return Status           0\n",
       "Sales Channel           0\n",
       "Total Sales             0\n",
       "Customer Age Group    346\n",
       "Region                  0\n",
       "Product Category        0\n",
       "dtype: int64"
      ]
     },
     "execution_count": 550,
     "metadata": {},
     "output_type": "execute_result"
    }
   ],
   "source": [
    "df.isnull().sum()"
   ]
  },
  {
   "cell_type": "code",
   "execution_count": 263,
   "id": "30fbdeeb-db3f-41c6-908d-cc08a22f68a0",
   "metadata": {},
   "outputs": [
    {
     "data": {
      "text/plain": [
       "0"
      ]
     },
     "execution_count": 263,
     "metadata": {},
     "output_type": "execute_result"
    }
   ],
   "source": [
    "df.duplicated().sum()"
   ]
  },
  {
   "cell_type": "code",
   "execution_count": null,
   "id": "74b04855-30f6-4305-b772-37bc847ad1f4",
   "metadata": {},
   "outputs": [],
   "source": []
  },
  {
   "cell_type": "code",
   "execution_count": 531,
   "id": "c1ce66cd-0534-41f1-998f-3abf4e1ca172",
   "metadata": {
    "scrolled": true
   },
   "outputs": [
    {
     "data": {
      "text/html": [
       "<div>\n",
       "<style scoped>\n",
       "    .dataframe tbody tr th:only-of-type {\n",
       "        vertical-align: middle;\n",
       "    }\n",
       "\n",
       "    .dataframe tbody tr th {\n",
       "        vertical-align: top;\n",
       "    }\n",
       "\n",
       "    .dataframe thead th {\n",
       "        text-align: right;\n",
       "    }\n",
       "</style>\n",
       "<table border=\"1\" class=\"dataframe\">\n",
       "  <thead>\n",
       "    <tr style=\"text-align: right;\">\n",
       "      <th></th>\n",
       "      <th>Invoice Number</th>\n",
       "      <th>Date Time</th>\n",
       "      <th>Customer ID</th>\n",
       "      <th>Product ID</th>\n",
       "      <th>Quantity</th>\n",
       "      <th>Price per Unit</th>\n",
       "      <th>Return Status</th>\n",
       "      <th>Sales Channel</th>\n",
       "      <th>Total Sales</th>\n",
       "      <th>Customer Age Group</th>\n",
       "      <th>Region</th>\n",
       "      <th>Product Category</th>\n",
       "    </tr>\n",
       "  </thead>\n",
       "  <tbody>\n",
       "    <tr>\n",
       "      <th>447</th>\n",
       "      <td>10456</td>\n",
       "      <td>2021-01-03 13:57:00</td>\n",
       "      <td>40</td>\n",
       "      <td>33</td>\n",
       "      <td>3</td>\n",
       "      <td>87.42</td>\n",
       "      <td>Not Returned</td>\n",
       "      <td>Online</td>\n",
       "      <td>262.26</td>\n",
       "      <td>26-35</td>\n",
       "      <td>East</td>\n",
       "      <td>Accessories</td>\n",
       "    </tr>\n",
       "    <tr>\n",
       "      <th>4713</th>\n",
       "      <td>14808</td>\n",
       "      <td>2021-01-08 02:05:00</td>\n",
       "      <td>14</td>\n",
       "      <td>7</td>\n",
       "      <td>7</td>\n",
       "      <td>74.24</td>\n",
       "      <td>Not Returned</td>\n",
       "      <td>In-Store</td>\n",
       "      <td>519.68</td>\n",
       "      <td>26-35</td>\n",
       "      <td>East</td>\n",
       "      <td>Footwear</td>\n",
       "    </tr>\n",
       "    <tr>\n",
       "      <th>5126</th>\n",
       "      <td>15235</td>\n",
       "      <td>2021-01-08 17:06:00</td>\n",
       "      <td>44</td>\n",
       "      <td>3</td>\n",
       "      <td>6</td>\n",
       "      <td>67.60</td>\n",
       "      <td>Not Returned</td>\n",
       "      <td>Online</td>\n",
       "      <td>405.60</td>\n",
       "      <td>26-35</td>\n",
       "      <td>East</td>\n",
       "      <td>Footwear</td>\n",
       "    </tr>\n",
       "    <tr>\n",
       "      <th>6665</th>\n",
       "      <td>10406</td>\n",
       "      <td>2021-01-03 03:13:00</td>\n",
       "      <td>12</td>\n",
       "      <td>41</td>\n",
       "      <td>7</td>\n",
       "      <td>29.24</td>\n",
       "      <td>Not Returned</td>\n",
       "      <td>Online</td>\n",
       "      <td>204.68</td>\n",
       "      <td>36-45</td>\n",
       "      <td>West</td>\n",
       "      <td>Accessories</td>\n",
       "    </tr>\n",
       "    <tr>\n",
       "      <th>11549</th>\n",
       "      <td>3982</td>\n",
       "      <td>2021-01-05 18:54:00</td>\n",
       "      <td>62</td>\n",
       "      <td>36</td>\n",
       "      <td>6</td>\n",
       "      <td>80.71</td>\n",
       "      <td>Not Returned</td>\n",
       "      <td>In-Store</td>\n",
       "      <td>484.26</td>\n",
       "      <td>46-55</td>\n",
       "      <td>East</td>\n",
       "      <td>Clothing</td>\n",
       "    </tr>\n",
       "    <tr>\n",
       "      <th>14619</th>\n",
       "      <td>7440</td>\n",
       "      <td>2021-01-01 19:29:00</td>\n",
       "      <td>75</td>\n",
       "      <td>1</td>\n",
       "      <td>3</td>\n",
       "      <td>81.51</td>\n",
       "      <td>Not Returned</td>\n",
       "      <td>Online</td>\n",
       "      <td>244.53</td>\n",
       "      <td>56+</td>\n",
       "      <td>West</td>\n",
       "      <td>Accessories</td>\n",
       "    </tr>\n",
       "    <tr>\n",
       "      <th>15996</th>\n",
       "      <td>8991</td>\n",
       "      <td>2021-01-07 05:02:00</td>\n",
       "      <td>20</td>\n",
       "      <td>11</td>\n",
       "      <td>3</td>\n",
       "      <td>88.68</td>\n",
       "      <td>Not Returned</td>\n",
       "      <td>In-Store</td>\n",
       "      <td>266.04</td>\n",
       "      <td>46-55</td>\n",
       "      <td>North</td>\n",
       "      <td>Clothing</td>\n",
       "    </tr>\n",
       "    <tr>\n",
       "      <th>16119</th>\n",
       "      <td>9132</td>\n",
       "      <td>2021-01-08 00:19:00</td>\n",
       "      <td>96</td>\n",
       "      <td>45</td>\n",
       "      <td>6</td>\n",
       "      <td>62.91</td>\n",
       "      <td>Not Returned</td>\n",
       "      <td>In-Store</td>\n",
       "      <td>377.46</td>\n",
       "      <td>36-45</td>\n",
       "      <td>North</td>\n",
       "      <td>Footwear</td>\n",
       "    </tr>\n",
       "    <tr>\n",
       "      <th>16642</th>\n",
       "      <td>9720</td>\n",
       "      <td>2021-01-05 12:55:00</td>\n",
       "      <td>58</td>\n",
       "      <td>24</td>\n",
       "      <td>10</td>\n",
       "      <td>29.37</td>\n",
       "      <td>Not Returned</td>\n",
       "      <td>Online</td>\n",
       "      <td>29.37</td>\n",
       "      <td>26-35</td>\n",
       "      <td>West</td>\n",
       "      <td>Accessories</td>\n",
       "    </tr>\n",
       "  </tbody>\n",
       "</table>\n",
       "</div>"
      ],
      "text/plain": [
       "       Invoice Number           Date Time  Customer ID  Product ID  Quantity  \\\n",
       "447             10456 2021-01-03 13:57:00           40          33         3   \n",
       "4713            14808 2021-01-08 02:05:00           14           7         7   \n",
       "5126            15235 2021-01-08 17:06:00           44           3         6   \n",
       "6665            10406 2021-01-03 03:13:00           12          41         7   \n",
       "11549            3982 2021-01-05 18:54:00           62          36         6   \n",
       "14619            7440 2021-01-01 19:29:00           75           1         3   \n",
       "15996            8991 2021-01-07 05:02:00           20          11         3   \n",
       "16119            9132 2021-01-08 00:19:00           96          45         6   \n",
       "16642            9720 2021-01-05 12:55:00           58          24        10   \n",
       "\n",
       "       Price per Unit Return Status Sales Channel  Total Sales  \\\n",
       "447             87.42  Not Returned        Online       262.26   \n",
       "4713            74.24  Not Returned      In-Store       519.68   \n",
       "5126            67.60  Not Returned        Online       405.60   \n",
       "6665            29.24  Not Returned        Online       204.68   \n",
       "11549           80.71  Not Returned      In-Store       484.26   \n",
       "14619           81.51  Not Returned        Online       244.53   \n",
       "15996           88.68  Not Returned      In-Store       266.04   \n",
       "16119           62.91  Not Returned      In-Store       377.46   \n",
       "16642           29.37  Not Returned        Online        29.37   \n",
       "\n",
       "      Customer Age Group Region Product Category  \n",
       "447                26-35   East      Accessories  \n",
       "4713               26-35   East         Footwear  \n",
       "5126               26-35   East         Footwear  \n",
       "6665               36-45   West      Accessories  \n",
       "11549              46-55   East         Clothing  \n",
       "14619                56+   West      Accessories  \n",
       "15996              46-55  North         Clothing  \n",
       "16119              36-45  North         Footwear  \n",
       "16642              26-35   West      Accessories  "
      ]
     },
     "execution_count": 531,
     "metadata": {},
     "output_type": "execute_result"
    }
   ],
   "source": [
    "df[df.duplicated(subset=['Invoice Number', 'Product ID'])]"
   ]
  },
  {
   "cell_type": "code",
   "execution_count": 584,
   "id": "4f41a5fe-c21c-4727-aa5f-3189ff8bebea",
   "metadata": {},
   "outputs": [
    {
     "data": {
      "text/html": [
       "<div>\n",
       "<style scoped>\n",
       "    .dataframe tbody tr th:only-of-type {\n",
       "        vertical-align: middle;\n",
       "    }\n",
       "\n",
       "    .dataframe tbody tr th {\n",
       "        vertical-align: top;\n",
       "    }\n",
       "\n",
       "    .dataframe thead th {\n",
       "        text-align: right;\n",
       "    }\n",
       "</style>\n",
       "<table border=\"1\" class=\"dataframe\">\n",
       "  <thead>\n",
       "    <tr style=\"text-align: right;\">\n",
       "      <th></th>\n",
       "      <th>Invoice Number</th>\n",
       "      <th>Date Time</th>\n",
       "      <th>Customer ID</th>\n",
       "      <th>Product ID</th>\n",
       "      <th>Quantity</th>\n",
       "      <th>Price per Unit</th>\n",
       "      <th>Return Status</th>\n",
       "      <th>Sales Channel</th>\n",
       "      <th>Total Sales</th>\n",
       "      <th>Customer Age Group</th>\n",
       "      <th>Region</th>\n",
       "      <th>Product Category</th>\n",
       "    </tr>\n",
       "  </thead>\n",
       "  <tbody>\n",
       "    <tr>\n",
       "      <th>446</th>\n",
       "      <td>10456</td>\n",
       "      <td>2021-01-03 17:46:00</td>\n",
       "      <td>40</td>\n",
       "      <td>33</td>\n",
       "      <td>3</td>\n",
       "      <td>87.42</td>\n",
       "      <td>Not Returned</td>\n",
       "      <td>Online</td>\n",
       "      <td>262.26</td>\n",
       "      <td>26-35</td>\n",
       "      <td>East</td>\n",
       "      <td>Accessories</td>\n",
       "    </tr>\n",
       "    <tr>\n",
       "      <th>447</th>\n",
       "      <td>10456</td>\n",
       "      <td>2021-01-03 13:57:00</td>\n",
       "      <td>40</td>\n",
       "      <td>33</td>\n",
       "      <td>3</td>\n",
       "      <td>87.42</td>\n",
       "      <td>Not Returned</td>\n",
       "      <td>Online</td>\n",
       "      <td>262.26</td>\n",
       "      <td>26-35</td>\n",
       "      <td>East</td>\n",
       "      <td>Accessories</td>\n",
       "    </tr>\n",
       "  </tbody>\n",
       "</table>\n",
       "</div>"
      ],
      "text/plain": [
       "     Invoice Number           Date Time  Customer ID  Product ID  Quantity  \\\n",
       "446           10456 2021-01-03 17:46:00           40          33         3   \n",
       "447           10456 2021-01-03 13:57:00           40          33         3   \n",
       "\n",
       "     Price per Unit Return Status Sales Channel  Total Sales  \\\n",
       "446           87.42  Not Returned        Online       262.26   \n",
       "447           87.42  Not Returned        Online       262.26   \n",
       "\n",
       "    Customer Age Group Region Product Category  \n",
       "446              26-35   East      Accessories  \n",
       "447              26-35   East      Accessories  "
      ]
     },
     "execution_count": 584,
     "metadata": {},
     "output_type": "execute_result"
    }
   ],
   "source": [
    "df[df['Invoice Number'] == 10456]"
   ]
  },
  {
   "cell_type": "code",
   "execution_count": 588,
   "id": "81e174ec-7787-4a6f-ac2b-6c9367391d54",
   "metadata": {
    "scrolled": true
   },
   "outputs": [
    {
     "data": {
      "text/html": [
       "<div>\n",
       "<style scoped>\n",
       "    .dataframe tbody tr th:only-of-type {\n",
       "        vertical-align: middle;\n",
       "    }\n",
       "\n",
       "    .dataframe tbody tr th {\n",
       "        vertical-align: top;\n",
       "    }\n",
       "\n",
       "    .dataframe thead th {\n",
       "        text-align: right;\n",
       "    }\n",
       "</style>\n",
       "<table border=\"1\" class=\"dataframe\">\n",
       "  <thead>\n",
       "    <tr style=\"text-align: right;\">\n",
       "      <th></th>\n",
       "      <th>Invoice Number</th>\n",
       "      <th>Date Time</th>\n",
       "      <th>Customer ID</th>\n",
       "      <th>Product ID</th>\n",
       "      <th>Quantity</th>\n",
       "      <th>Price per Unit</th>\n",
       "      <th>Return Status</th>\n",
       "      <th>Sales Channel</th>\n",
       "      <th>Total Sales</th>\n",
       "      <th>Customer Age Group</th>\n",
       "      <th>Region</th>\n",
       "      <th>Product Category</th>\n",
       "    </tr>\n",
       "  </thead>\n",
       "  <tbody>\n",
       "    <tr>\n",
       "      <th>394</th>\n",
       "      <td>10406</td>\n",
       "      <td>2021-01-03 03:13:00</td>\n",
       "      <td>12</td>\n",
       "      <td>43</td>\n",
       "      <td>2</td>\n",
       "      <td>73.85</td>\n",
       "      <td>Not Returned</td>\n",
       "      <td>Online</td>\n",
       "      <td>147.70</td>\n",
       "      <td>36-45</td>\n",
       "      <td>West</td>\n",
       "      <td>Clothing</td>\n",
       "    </tr>\n",
       "    <tr>\n",
       "      <th>3270</th>\n",
       "      <td>10406</td>\n",
       "      <td>2021-01-03 03:13:00</td>\n",
       "      <td>12</td>\n",
       "      <td>41</td>\n",
       "      <td>6</td>\n",
       "      <td>62.93</td>\n",
       "      <td>Not Returned</td>\n",
       "      <td>Online</td>\n",
       "      <td>377.58</td>\n",
       "      <td>36-45</td>\n",
       "      <td>West</td>\n",
       "      <td>Accessories</td>\n",
       "    </tr>\n",
       "    <tr>\n",
       "      <th>6665</th>\n",
       "      <td>10406</td>\n",
       "      <td>2021-01-03 03:13:00</td>\n",
       "      <td>12</td>\n",
       "      <td>41</td>\n",
       "      <td>7</td>\n",
       "      <td>29.24</td>\n",
       "      <td>Not Returned</td>\n",
       "      <td>Online</td>\n",
       "      <td>204.68</td>\n",
       "      <td>36-45</td>\n",
       "      <td>West</td>\n",
       "      <td>Accessories</td>\n",
       "    </tr>\n",
       "    <tr>\n",
       "      <th>8668</th>\n",
       "      <td>10406</td>\n",
       "      <td>2021-01-03 03:13:00</td>\n",
       "      <td>12</td>\n",
       "      <td>50</td>\n",
       "      <td>2</td>\n",
       "      <td>89.26</td>\n",
       "      <td>Not Returned</td>\n",
       "      <td>Online</td>\n",
       "      <td>178.52</td>\n",
       "      <td>36-45</td>\n",
       "      <td>West</td>\n",
       "      <td>Accessories</td>\n",
       "    </tr>\n",
       "    <tr>\n",
       "      <th>11629</th>\n",
       "      <td>10406</td>\n",
       "      <td>2021-01-03 03:13:00</td>\n",
       "      <td>12</td>\n",
       "      <td>20</td>\n",
       "      <td>2</td>\n",
       "      <td>54.08</td>\n",
       "      <td>Not Returned</td>\n",
       "      <td>Online</td>\n",
       "      <td>108.16</td>\n",
       "      <td>36-45</td>\n",
       "      <td>West</td>\n",
       "      <td>Clothing</td>\n",
       "    </tr>\n",
       "    <tr>\n",
       "      <th>15354</th>\n",
       "      <td>10406</td>\n",
       "      <td>2021-01-03 03:13:00</td>\n",
       "      <td>12</td>\n",
       "      <td>21</td>\n",
       "      <td>3</td>\n",
       "      <td>63.67</td>\n",
       "      <td>Not Returned</td>\n",
       "      <td>Online</td>\n",
       "      <td>191.01</td>\n",
       "      <td>36-45</td>\n",
       "      <td>West</td>\n",
       "      <td>Clothing</td>\n",
       "    </tr>\n",
       "  </tbody>\n",
       "</table>\n",
       "</div>"
      ],
      "text/plain": [
       "       Invoice Number           Date Time  Customer ID  Product ID  Quantity  \\\n",
       "394             10406 2021-01-03 03:13:00           12          43         2   \n",
       "3270            10406 2021-01-03 03:13:00           12          41         6   \n",
       "6665            10406 2021-01-03 03:13:00           12          41         7   \n",
       "8668            10406 2021-01-03 03:13:00           12          50         2   \n",
       "11629           10406 2021-01-03 03:13:00           12          20         2   \n",
       "15354           10406 2021-01-03 03:13:00           12          21         3   \n",
       "\n",
       "       Price per Unit Return Status Sales Channel  Total Sales  \\\n",
       "394             73.85  Not Returned        Online       147.70   \n",
       "3270            62.93  Not Returned        Online       377.58   \n",
       "6665            29.24  Not Returned        Online       204.68   \n",
       "8668            89.26  Not Returned        Online       178.52   \n",
       "11629           54.08  Not Returned        Online       108.16   \n",
       "15354           63.67  Not Returned        Online       191.01   \n",
       "\n",
       "      Customer Age Group Region Product Category  \n",
       "394                36-45   West         Clothing  \n",
       "3270               36-45   West      Accessories  \n",
       "6665               36-45   West      Accessories  \n",
       "8668               36-45   West      Accessories  \n",
       "11629              36-45   West         Clothing  \n",
       "15354              36-45   West         Clothing  "
      ]
     },
     "execution_count": 588,
     "metadata": {},
     "output_type": "execute_result"
    }
   ],
   "source": [
    "df[df['Invoice Number'] == 10406]"
   ]
  },
  {
   "cell_type": "code",
   "execution_count": 646,
   "id": "2ea35722-10c2-4165-b805-8a15602ad445",
   "metadata": {},
   "outputs": [
    {
     "data": {
      "text/html": [
       "<div>\n",
       "<style scoped>\n",
       "    .dataframe tbody tr th:only-of-type {\n",
       "        vertical-align: middle;\n",
       "    }\n",
       "\n",
       "    .dataframe tbody tr th {\n",
       "        vertical-align: top;\n",
       "    }\n",
       "\n",
       "    .dataframe thead th {\n",
       "        text-align: right;\n",
       "    }\n",
       "</style>\n",
       "<table border=\"1\" class=\"dataframe\">\n",
       "  <thead>\n",
       "    <tr style=\"text-align: right;\">\n",
       "      <th></th>\n",
       "      <th>Invoice Number</th>\n",
       "      <th>Date Time</th>\n",
       "      <th>Customer ID</th>\n",
       "      <th>Product ID</th>\n",
       "      <th>Quantity</th>\n",
       "      <th>Price per Unit</th>\n",
       "      <th>Return Status</th>\n",
       "      <th>Sales Channel</th>\n",
       "      <th>Total Sales</th>\n",
       "      <th>Customer Age Group</th>\n",
       "      <th>Region</th>\n",
       "      <th>Product Category</th>\n",
       "    </tr>\n",
       "  </thead>\n",
       "  <tbody>\n",
       "    <tr>\n",
       "      <th>16641</th>\n",
       "      <td>9720</td>\n",
       "      <td>2021-01-05 09:44:00</td>\n",
       "      <td>58</td>\n",
       "      <td>24</td>\n",
       "      <td>1</td>\n",
       "      <td>29.37</td>\n",
       "      <td>Not Returned</td>\n",
       "      <td>Online</td>\n",
       "      <td>29.37</td>\n",
       "      <td>26-35</td>\n",
       "      <td>West</td>\n",
       "      <td>Accessories</td>\n",
       "    </tr>\n",
       "    <tr>\n",
       "      <th>16642</th>\n",
       "      <td>9720</td>\n",
       "      <td>2021-01-05 12:55:00</td>\n",
       "      <td>58</td>\n",
       "      <td>24</td>\n",
       "      <td>10</td>\n",
       "      <td>29.37</td>\n",
       "      <td>Not Returned</td>\n",
       "      <td>Online</td>\n",
       "      <td>29.37</td>\n",
       "      <td>26-35</td>\n",
       "      <td>West</td>\n",
       "      <td>Accessories</td>\n",
       "    </tr>\n",
       "  </tbody>\n",
       "</table>\n",
       "</div>"
      ],
      "text/plain": [
       "       Invoice Number           Date Time  Customer ID  Product ID  Quantity  \\\n",
       "16641            9720 2021-01-05 09:44:00           58          24         1   \n",
       "16642            9720 2021-01-05 12:55:00           58          24        10   \n",
       "\n",
       "       Price per Unit Return Status Sales Channel  Total Sales  \\\n",
       "16641           29.37  Not Returned        Online        29.37   \n",
       "16642           29.37  Not Returned        Online        29.37   \n",
       "\n",
       "      Customer Age Group Region Product Category  \n",
       "16641              26-35   West      Accessories  \n",
       "16642              26-35   West      Accessories  "
      ]
     },
     "execution_count": 646,
     "metadata": {},
     "output_type": "execute_result"
    }
   ],
   "source": [
    "df[df['Invoice Number'] == 9720]"
   ]
  },
  {
   "cell_type": "code",
   "execution_count": 642,
   "id": "3cd21a90-842e-4eda-8a67-b689f0ba0552",
   "metadata": {},
   "outputs": [
    {
     "data": {
      "text/html": [
       "<div>\n",
       "<style scoped>\n",
       "    .dataframe tbody tr th:only-of-type {\n",
       "        vertical-align: middle;\n",
       "    }\n",
       "\n",
       "    .dataframe tbody tr th {\n",
       "        vertical-align: top;\n",
       "    }\n",
       "\n",
       "    .dataframe thead th {\n",
       "        text-align: right;\n",
       "    }\n",
       "</style>\n",
       "<table border=\"1\" class=\"dataframe\">\n",
       "  <thead>\n",
       "    <tr style=\"text-align: right;\">\n",
       "      <th></th>\n",
       "      <th>Invoice Number</th>\n",
       "      <th>Date Time</th>\n",
       "      <th>Customer ID</th>\n",
       "      <th>Product ID</th>\n",
       "      <th>Quantity</th>\n",
       "      <th>Price per Unit</th>\n",
       "      <th>Return Status</th>\n",
       "      <th>Sales Channel</th>\n",
       "      <th>Total Sales</th>\n",
       "      <th>Customer Age Group</th>\n",
       "      <th>Region</th>\n",
       "      <th>Product Category</th>\n",
       "    </tr>\n",
       "  </thead>\n",
       "  <tbody>\n",
       "    <tr>\n",
       "      <th>447</th>\n",
       "      <td>10456</td>\n",
       "      <td>2021-01-03 13:57:00</td>\n",
       "      <td>40</td>\n",
       "      <td>33</td>\n",
       "      <td>3</td>\n",
       "      <td>87.42</td>\n",
       "      <td>Not Returned</td>\n",
       "      <td>Online</td>\n",
       "      <td>262.26</td>\n",
       "      <td>26-35</td>\n",
       "      <td>East</td>\n",
       "      <td>Accessories</td>\n",
       "    </tr>\n",
       "    <tr>\n",
       "      <th>4713</th>\n",
       "      <td>14808</td>\n",
       "      <td>2021-01-08 02:05:00</td>\n",
       "      <td>14</td>\n",
       "      <td>7</td>\n",
       "      <td>7</td>\n",
       "      <td>74.24</td>\n",
       "      <td>Not Returned</td>\n",
       "      <td>In-Store</td>\n",
       "      <td>519.68</td>\n",
       "      <td>26-35</td>\n",
       "      <td>East</td>\n",
       "      <td>Footwear</td>\n",
       "    </tr>\n",
       "    <tr>\n",
       "      <th>5126</th>\n",
       "      <td>15235</td>\n",
       "      <td>2021-01-08 17:06:00</td>\n",
       "      <td>44</td>\n",
       "      <td>3</td>\n",
       "      <td>6</td>\n",
       "      <td>67.60</td>\n",
       "      <td>Not Returned</td>\n",
       "      <td>Online</td>\n",
       "      <td>405.60</td>\n",
       "      <td>26-35</td>\n",
       "      <td>East</td>\n",
       "      <td>Footwear</td>\n",
       "    </tr>\n",
       "    <tr>\n",
       "      <th>11549</th>\n",
       "      <td>3982</td>\n",
       "      <td>2021-01-05 18:54:00</td>\n",
       "      <td>62</td>\n",
       "      <td>36</td>\n",
       "      <td>6</td>\n",
       "      <td>80.71</td>\n",
       "      <td>Not Returned</td>\n",
       "      <td>In-Store</td>\n",
       "      <td>484.26</td>\n",
       "      <td>46-55</td>\n",
       "      <td>East</td>\n",
       "      <td>Clothing</td>\n",
       "    </tr>\n",
       "    <tr>\n",
       "      <th>14619</th>\n",
       "      <td>7440</td>\n",
       "      <td>2021-01-01 19:29:00</td>\n",
       "      <td>75</td>\n",
       "      <td>1</td>\n",
       "      <td>3</td>\n",
       "      <td>81.51</td>\n",
       "      <td>Not Returned</td>\n",
       "      <td>Online</td>\n",
       "      <td>244.53</td>\n",
       "      <td>56+</td>\n",
       "      <td>West</td>\n",
       "      <td>Accessories</td>\n",
       "    </tr>\n",
       "    <tr>\n",
       "      <th>15996</th>\n",
       "      <td>8991</td>\n",
       "      <td>2021-01-07 05:02:00</td>\n",
       "      <td>20</td>\n",
       "      <td>11</td>\n",
       "      <td>3</td>\n",
       "      <td>88.68</td>\n",
       "      <td>Not Returned</td>\n",
       "      <td>In-Store</td>\n",
       "      <td>266.04</td>\n",
       "      <td>46-55</td>\n",
       "      <td>North</td>\n",
       "      <td>Clothing</td>\n",
       "    </tr>\n",
       "    <tr>\n",
       "      <th>16119</th>\n",
       "      <td>9132</td>\n",
       "      <td>2021-01-08 00:19:00</td>\n",
       "      <td>96</td>\n",
       "      <td>45</td>\n",
       "      <td>6</td>\n",
       "      <td>62.91</td>\n",
       "      <td>Not Returned</td>\n",
       "      <td>In-Store</td>\n",
       "      <td>377.46</td>\n",
       "      <td>36-45</td>\n",
       "      <td>North</td>\n",
       "      <td>Footwear</td>\n",
       "    </tr>\n",
       "  </tbody>\n",
       "</table>\n",
       "</div>"
      ],
      "text/plain": [
       "       Invoice Number           Date Time  Customer ID  Product ID  Quantity  \\\n",
       "447             10456 2021-01-03 13:57:00           40          33         3   \n",
       "4713            14808 2021-01-08 02:05:00           14           7         7   \n",
       "5126            15235 2021-01-08 17:06:00           44           3         6   \n",
       "11549            3982 2021-01-05 18:54:00           62          36         6   \n",
       "14619            7440 2021-01-01 19:29:00           75           1         3   \n",
       "15996            8991 2021-01-07 05:02:00           20          11         3   \n",
       "16119            9132 2021-01-08 00:19:00           96          45         6   \n",
       "\n",
       "       Price per Unit Return Status Sales Channel  Total Sales  \\\n",
       "447             87.42  Not Returned        Online       262.26   \n",
       "4713            74.24  Not Returned      In-Store       519.68   \n",
       "5126            67.60  Not Returned        Online       405.60   \n",
       "11549           80.71  Not Returned      In-Store       484.26   \n",
       "14619           81.51  Not Returned        Online       244.53   \n",
       "15996           88.68  Not Returned      In-Store       266.04   \n",
       "16119           62.91  Not Returned      In-Store       377.46   \n",
       "\n",
       "      Customer Age Group Region Product Category  \n",
       "447                26-35   East      Accessories  \n",
       "4713               26-35   East         Footwear  \n",
       "5126               26-35   East         Footwear  \n",
       "11549              46-55   East         Clothing  \n",
       "14619                56+   West      Accessories  \n",
       "15996              46-55  North         Clothing  \n",
       "16119              36-45  North         Footwear  "
      ]
     },
     "execution_count": 642,
     "metadata": {},
     "output_type": "execute_result"
    }
   ],
   "source": [
    "df[df.duplicated(subset=['Invoice Number', 'Product ID','Quantity'])]"
   ]
  },
  {
   "cell_type": "code",
   "execution_count": 648,
   "id": "13c5a9b0-50d3-4056-bdb9-8ea37d29365e",
   "metadata": {},
   "outputs": [],
   "source": [
    "invoice_time_counts = df.groupby('Invoice Number')['Date Time'].nunique()"
   ]
  },
  {
   "cell_type": "code",
   "execution_count": 650,
   "id": "44745fe0-d25f-4a4a-b234-6159c06f609e",
   "metadata": {},
   "outputs": [
    {
     "data": {
      "text/plain": [
       "Invoice Number\n",
       "3982     2\n",
       "7440     2\n",
       "8991     2\n",
       "9132     2\n",
       "9720     2\n",
       "10456    2\n",
       "14808    2\n",
       "15235    2\n",
       "Name: Date Time, dtype: int64"
      ]
     },
     "execution_count": 650,
     "metadata": {},
     "output_type": "execute_result"
    }
   ],
   "source": [
    "invoice_time_counts[invoice_time_counts>1]"
   ]
  },
  {
   "cell_type": "code",
   "execution_count": 656,
   "id": "f7ededce-0a07-4e71-aa18-8a01c1ba9a5c",
   "metadata": {},
   "outputs": [
    {
     "data": {
      "text/plain": [
       "Invoice Number        16897\n",
       "Date Time             16897\n",
       "Customer ID           16897\n",
       "Product ID            16897\n",
       "Quantity              16897\n",
       "Price per Unit        16897\n",
       "Return Status         16897\n",
       "Sales Channel         16897\n",
       "Total Sales           16897\n",
       "Customer Age Group    16897\n",
       "Region                16897\n",
       "Product Category      16897\n",
       "dtype: int64"
      ]
     },
     "execution_count": 656,
     "metadata": {},
     "output_type": "execute_result"
    }
   ],
   "source": [
    "df.count()"
   ]
  },
  {
   "cell_type": "code",
   "execution_count": 660,
   "id": "0a936518-0e55-44c2-9f3d-e0f552d81ddd",
   "metadata": {},
   "outputs": [],
   "source": [
    "df = df.drop_duplicates(subset = ['Invoice Number','Product ID'])"
   ]
  },
  {
   "cell_type": "code",
   "execution_count": 662,
   "id": "7f5e98ac-1f83-4038-ade7-6a450746e10e",
   "metadata": {},
   "outputs": [
    {
     "data": {
      "text/plain": [
       "Invoice Number        16888\n",
       "Date Time             16888\n",
       "Customer ID           16888\n",
       "Product ID            16888\n",
       "Quantity              16888\n",
       "Price per Unit        16888\n",
       "Return Status         16888\n",
       "Sales Channel         16888\n",
       "Total Sales           16888\n",
       "Customer Age Group    16888\n",
       "Region                16888\n",
       "Product Category      16888\n",
       "dtype: int64"
      ]
     },
     "execution_count": 662,
     "metadata": {},
     "output_type": "execute_result"
    }
   ],
   "source": [
    "df.count()"
   ]
  },
  {
   "cell_type": "code",
   "execution_count": 265,
   "id": "811e0a28-1887-4397-8e1d-f65a740cd865",
   "metadata": {},
   "outputs": [
    {
     "data": {
      "text/html": [
       "<div>\n",
       "<style scoped>\n",
       "    .dataframe tbody tr th:only-of-type {\n",
       "        vertical-align: middle;\n",
       "    }\n",
       "\n",
       "    .dataframe tbody tr th {\n",
       "        vertical-align: top;\n",
       "    }\n",
       "\n",
       "    .dataframe thead th {\n",
       "        text-align: right;\n",
       "    }\n",
       "</style>\n",
       "<table border=\"1\" class=\"dataframe\">\n",
       "  <thead>\n",
       "    <tr style=\"text-align: right;\">\n",
       "      <th></th>\n",
       "      <th>Invoice Number</th>\n",
       "      <th>Customer ID</th>\n",
       "      <th>Product ID</th>\n",
       "      <th>Quantity</th>\n",
       "      <th>Price per Unit</th>\n",
       "      <th>Total Sales</th>\n",
       "    </tr>\n",
       "  </thead>\n",
       "  <tbody>\n",
       "    <tr>\n",
       "      <th>count</th>\n",
       "      <td>16898.000000</td>\n",
       "      <td>16898.000000</td>\n",
       "      <td>16898.000000</td>\n",
       "      <td>16898.000000</td>\n",
       "      <td>16898.000000</td>\n",
       "      <td>16898.000000</td>\n",
       "    </tr>\n",
       "    <tr>\n",
       "      <th>mean</th>\n",
       "      <td>10473.348503</td>\n",
       "      <td>50.206001</td>\n",
       "      <td>25.463960</td>\n",
       "      <td>3.988164</td>\n",
       "      <td>60.099128</td>\n",
       "      <td>240.033409</td>\n",
       "    </tr>\n",
       "    <tr>\n",
       "      <th>std</th>\n",
       "      <td>5474.453895</td>\n",
       "      <td>28.896081</td>\n",
       "      <td>14.395134</td>\n",
       "      <td>2.049422</td>\n",
       "      <td>23.229113</td>\n",
       "      <td>159.466443</td>\n",
       "    </tr>\n",
       "    <tr>\n",
       "      <th>min</th>\n",
       "      <td>1000.000000</td>\n",
       "      <td>1.000000</td>\n",
       "      <td>1.000000</td>\n",
       "      <td>1.000000</td>\n",
       "      <td>20.000000</td>\n",
       "      <td>20.120000</td>\n",
       "    </tr>\n",
       "    <tr>\n",
       "      <th>25%</th>\n",
       "      <td>5726.250000</td>\n",
       "      <td>25.000000</td>\n",
       "      <td>13.000000</td>\n",
       "      <td>2.000000</td>\n",
       "      <td>40.050000</td>\n",
       "      <td>107.947500</td>\n",
       "    </tr>\n",
       "    <tr>\n",
       "      <th>50%</th>\n",
       "      <td>10461.000000</td>\n",
       "      <td>50.000000</td>\n",
       "      <td>25.000000</td>\n",
       "      <td>4.000000</td>\n",
       "      <td>59.870000</td>\n",
       "      <td>200.500000</td>\n",
       "    </tr>\n",
       "    <tr>\n",
       "      <th>75%</th>\n",
       "      <td>15211.750000</td>\n",
       "      <td>75.000000</td>\n",
       "      <td>38.000000</td>\n",
       "      <td>6.000000</td>\n",
       "      <td>80.607500</td>\n",
       "      <td>341.662500</td>\n",
       "    </tr>\n",
       "    <tr>\n",
       "      <th>max</th>\n",
       "      <td>19999.000000</td>\n",
       "      <td>100.000000</td>\n",
       "      <td>50.000000</td>\n",
       "      <td>60.000000</td>\n",
       "      <td>99.990000</td>\n",
       "      <td>699.930000</td>\n",
       "    </tr>\n",
       "  </tbody>\n",
       "</table>\n",
       "</div>"
      ],
      "text/plain": [
       "       Invoice Number   Customer ID    Product ID      Quantity  \\\n",
       "count    16898.000000  16898.000000  16898.000000  16898.000000   \n",
       "mean     10473.348503     50.206001     25.463960      3.988164   \n",
       "std       5474.453895     28.896081     14.395134      2.049422   \n",
       "min       1000.000000      1.000000      1.000000      1.000000   \n",
       "25%       5726.250000     25.000000     13.000000      2.000000   \n",
       "50%      10461.000000     50.000000     25.000000      4.000000   \n",
       "75%      15211.750000     75.000000     38.000000      6.000000   \n",
       "max      19999.000000    100.000000     50.000000     60.000000   \n",
       "\n",
       "       Price per Unit   Total Sales  \n",
       "count    16898.000000  16898.000000  \n",
       "mean        60.099128    240.033409  \n",
       "std         23.229113    159.466443  \n",
       "min         20.000000     20.120000  \n",
       "25%         40.050000    107.947500  \n",
       "50%         59.870000    200.500000  \n",
       "75%         80.607500    341.662500  \n",
       "max         99.990000    699.930000  "
      ]
     },
     "execution_count": 265,
     "metadata": {},
     "output_type": "execute_result"
    }
   ],
   "source": [
    "df.describe()"
   ]
  },
  {
   "cell_type": "code",
   "execution_count": 552,
   "id": "63e179fc-2c14-4e7d-ba2a-ce171ff1f08e",
   "metadata": {},
   "outputs": [
    {
     "data": {
      "text/plain": [
       "array(['26-35', '18-25', '46-55', '56+', '36-45', nan], dtype=object)"
      ]
     },
     "execution_count": 552,
     "metadata": {},
     "output_type": "execute_result"
    }
   ],
   "source": [
    "df['Customer Age Group'].unique()"
   ]
  },
  {
   "cell_type": "code",
   "execution_count": 554,
   "id": "d2b82928-3886-4816-9540-f5ce20e07520",
   "metadata": {},
   "outputs": [
    {
     "data": {
      "text/html": [
       "<div>\n",
       "<style scoped>\n",
       "    .dataframe tbody tr th:only-of-type {\n",
       "        vertical-align: middle;\n",
       "    }\n",
       "\n",
       "    .dataframe tbody tr th {\n",
       "        vertical-align: top;\n",
       "    }\n",
       "\n",
       "    .dataframe thead th {\n",
       "        text-align: right;\n",
       "    }\n",
       "</style>\n",
       "<table border=\"1\" class=\"dataframe\">\n",
       "  <thead>\n",
       "    <tr style=\"text-align: right;\">\n",
       "      <th></th>\n",
       "      <th>Invoice Number</th>\n",
       "      <th>Date Time</th>\n",
       "      <th>Product ID</th>\n",
       "      <th>Quantity</th>\n",
       "      <th>Price per Unit</th>\n",
       "      <th>Return Status</th>\n",
       "      <th>Sales Channel</th>\n",
       "      <th>Total Sales</th>\n",
       "      <th>Customer Age Group</th>\n",
       "      <th>Region</th>\n",
       "      <th>Product Category</th>\n",
       "    </tr>\n",
       "    <tr>\n",
       "      <th>Customer ID</th>\n",
       "      <th></th>\n",
       "      <th></th>\n",
       "      <th></th>\n",
       "      <th></th>\n",
       "      <th></th>\n",
       "      <th></th>\n",
       "      <th></th>\n",
       "      <th></th>\n",
       "      <th></th>\n",
       "      <th></th>\n",
       "      <th></th>\n",
       "    </tr>\n",
       "  </thead>\n",
       "  <tbody>\n",
       "    <tr>\n",
       "      <th>7</th>\n",
       "      <td>160</td>\n",
       "      <td>159</td>\n",
       "      <td>47</td>\n",
       "      <td>7</td>\n",
       "      <td>162</td>\n",
       "      <td>2</td>\n",
       "      <td>4</td>\n",
       "      <td>161</td>\n",
       "      <td>0</td>\n",
       "      <td>1</td>\n",
       "      <td>5</td>\n",
       "    </tr>\n",
       "    <tr>\n",
       "      <th>8</th>\n",
       "      <td>181</td>\n",
       "      <td>181</td>\n",
       "      <td>48</td>\n",
       "      <td>7</td>\n",
       "      <td>183</td>\n",
       "      <td>2</td>\n",
       "      <td>4</td>\n",
       "      <td>183</td>\n",
       "      <td>0</td>\n",
       "      <td>1</td>\n",
       "      <td>5</td>\n",
       "    </tr>\n",
       "  </tbody>\n",
       "</table>\n",
       "</div>"
      ],
      "text/plain": [
       "             Invoice Number  Date Time  Product ID  Quantity  Price per Unit  \\\n",
       "Customer ID                                                                    \n",
       "7                       160        159          47         7             162   \n",
       "8                       181        181          48         7             183   \n",
       "\n",
       "             Return Status  Sales Channel  Total Sales  Customer Age Group  \\\n",
       "Customer ID                                                                  \n",
       "7                        2              4          161                   0   \n",
       "8                        2              4          183                   0   \n",
       "\n",
       "             Region  Product Category  \n",
       "Customer ID                            \n",
       "7                 1                 5  \n",
       "8                 1                 5  "
      ]
     },
     "execution_count": 554,
     "metadata": {},
     "output_type": "execute_result"
    }
   ],
   "source": [
    "df[df['Customer Age Group'].isna()].groupby('Customer ID').nunique()"
   ]
  },
  {
   "cell_type": "code",
   "execution_count": 522,
   "id": "deb1388e-641c-4d32-8b84-c670f4ef5e4f",
   "metadata": {},
   "outputs": [
    {
     "data": {
      "text/plain": [
       "'46-55'"
      ]
     },
     "execution_count": 522,
     "metadata": {},
     "output_type": "execute_result"
    }
   ],
   "source": [
    "(df['Customer Age Group'].mode()[0])"
   ]
  },
  {
   "cell_type": "code",
   "execution_count": 556,
   "id": "bdaeac9f-4847-4c5d-b542-3c15d0df7700",
   "metadata": {},
   "outputs": [],
   "source": [
    "df.loc[(df['Customer ID'] == 7) & (df['Customer Age Group'].isna()), 'Customer Age Group'] = '46-55'"
   ]
  },
  {
   "cell_type": "code",
   "execution_count": 558,
   "id": "7bd1fc6d-766a-4fd9-89c0-a5582a27b5bc",
   "metadata": {},
   "outputs": [],
   "source": [
    "df.loc[(df['Customer ID'] == 8) & (df['Customer Age Group'].isna()), 'Customer Age Group'] = '46-55'"
   ]
  },
  {
   "cell_type": "code",
   "execution_count": 279,
   "id": "b33be6ca-f467-4a6f-b1ce-77f95a6f8852",
   "metadata": {},
   "outputs": [
    {
     "data": {
      "text/plain": [
       "Invoice Number        16817\n",
       "Date Time              9998\n",
       "Customer ID             100\n",
       "Product ID               50\n",
       "Quantity                 10\n",
       "Price per Unit         7008\n",
       "Return Status             2\n",
       "Sales Channel             4\n",
       "Total Sales           12783\n",
       "Customer Age Group        5\n",
       "Region                    4\n",
       "Product Category          5\n",
       "dtype: int64"
      ]
     },
     "execution_count": 279,
     "metadata": {},
     "output_type": "execute_result"
    }
   ],
   "source": [
    "df.nunique()"
   ]
  },
  {
   "cell_type": "markdown",
   "id": "1bbf69a1-4133-401e-b629-7a434a0db756",
   "metadata": {},
   "source": [
    "SPELLING CHECK\n",
    "=="
   ]
  },
  {
   "cell_type": "code",
   "execution_count": 283,
   "id": "ac028fca-58bc-4382-a5f7-8838ecf93203",
   "metadata": {},
   "outputs": [
    {
     "data": {
      "text/plain": [
       "array(['Not Returned', 'Returned'], dtype=object)"
      ]
     },
     "execution_count": 283,
     "metadata": {},
     "output_type": "execute_result"
    }
   ],
   "source": [
    "df['Return Status'].unique()"
   ]
  },
  {
   "cell_type": "code",
   "execution_count": 560,
   "id": "4368d154-e5b6-44e7-ad7e-fc1788c40ea6",
   "metadata": {},
   "outputs": [],
   "source": [
    "df['Sales Channel'] = df['Sales Channel'].str.replace('In Store','In-Store')\n",
    "df['Sales Channel'] = df['Sales Channel'].str.replace('On line','Online')"
   ]
  },
  {
   "cell_type": "code",
   "execution_count": 287,
   "id": "b1703041-4f8a-4924-9d88-3821e01c3f9f",
   "metadata": {},
   "outputs": [
    {
     "data": {
      "text/plain": [
       "array(['In-Store', 'Online'], dtype=object)"
      ]
     },
     "execution_count": 287,
     "metadata": {},
     "output_type": "execute_result"
    }
   ],
   "source": [
    "df['Sales Channel'].unique()"
   ]
  },
  {
   "cell_type": "code",
   "execution_count": 562,
   "id": "418cdfac-cad5-405b-a4c4-f2c257ab40c7",
   "metadata": {},
   "outputs": [],
   "source": [
    "df['Product Category'] = df['Product Category'].str.replace('Acessories','Accessories')\n",
    "df['Product Category'] = df['Product Category'].str.replace('Foot wear','Footwear')"
   ]
  },
  {
   "cell_type": "code",
   "execution_count": 291,
   "id": "fd75731e-41e1-49d2-9df4-de786bba6750",
   "metadata": {},
   "outputs": [
    {
     "data": {
      "text/plain": [
       "array(['Footwear', 'Clothing', 'Accessories'], dtype=object)"
      ]
     },
     "execution_count": 291,
     "metadata": {},
     "output_type": "execute_result"
    }
   ],
   "source": [
    "df['Product Category'].unique()"
   ]
  },
  {
   "cell_type": "code",
   "execution_count": 293,
   "id": "d0e70b06-37ed-44df-95ca-efd0b9af7609",
   "metadata": {},
   "outputs": [
    {
     "data": {
      "text/plain": [
       "array(['26-35', '18-25', '46-55', '56+', '36-45'], dtype=object)"
      ]
     },
     "execution_count": 293,
     "metadata": {},
     "output_type": "execute_result"
    }
   ],
   "source": [
    "df['Customer Age Group'].unique()"
   ]
  },
  {
   "cell_type": "code",
   "execution_count": 295,
   "id": "7f412794-7e5f-415f-af9d-ac1143174470",
   "metadata": {},
   "outputs": [
    {
     "data": {
      "text/plain": [
       "array(['West', 'South', 'East', 'North'], dtype=object)"
      ]
     },
     "execution_count": 295,
     "metadata": {},
     "output_type": "execute_result"
    }
   ],
   "source": [
    "df['Region'].unique()"
   ]
  },
  {
   "cell_type": "markdown",
   "id": "0fe920dd-f339-409a-a445-b3b9831cd0ef",
   "metadata": {},
   "source": [
    "# Outliers"
   ]
  },
  {
   "cell_type": "code",
   "execution_count": 297,
   "id": "ee79089e-741c-42d8-85cb-e6feddb36cc1",
   "metadata": {},
   "outputs": [
    {
     "data": {
      "text/plain": [
       "<Axes: xlabel='Quantity'>"
      ]
     },
     "execution_count": 297,
     "metadata": {},
     "output_type": "execute_result"
    },
    {
     "data": {
      "image/png": "[encoded data removed]",
      "text/plain": [
       "<Figure size 640x480 with 1 Axes>"
      ]
     },
     "metadata": {},
     "output_type": "display_data"
    }
   ],
   "source": [
    "sns.boxplot(x=df['Quantity'])"
   ]
  },
  {
   "cell_type": "code",
   "execution_count": 317,
   "id": "9aca301b-b5b4-493a-8b5f-7381eadbcf30",
   "metadata": {},
   "outputs": [
    {
     "data": {
      "text/html": [
       "<div>\n",
       "<style scoped>\n",
       "    .dataframe tbody tr th:only-of-type {\n",
       "        vertical-align: middle;\n",
       "    }\n",
       "\n",
       "    .dataframe tbody tr th {\n",
       "        vertical-align: top;\n",
       "    }\n",
       "\n",
       "    .dataframe thead th {\n",
       "        text-align: right;\n",
       "    }\n",
       "</style>\n",
       "<table border=\"1\" class=\"dataframe\">\n",
       "  <thead>\n",
       "    <tr style=\"text-align: right;\">\n",
       "      <th></th>\n",
       "      <th>Invoice Number</th>\n",
       "      <th>Date Time</th>\n",
       "      <th>Customer ID</th>\n",
       "      <th>Product ID</th>\n",
       "      <th>Quantity</th>\n",
       "      <th>Price per Unit</th>\n",
       "      <th>Return Status</th>\n",
       "      <th>Sales Channel</th>\n",
       "      <th>Total Sales</th>\n",
       "      <th>Customer Age Group</th>\n",
       "      <th>Region</th>\n",
       "      <th>Product Category</th>\n",
       "    </tr>\n",
       "  </thead>\n",
       "  <tbody>\n",
       "  </tbody>\n",
       "</table>\n",
       "</div>"
      ],
      "text/plain": [
       "Empty DataFrame\n",
       "Columns: [Invoice Number, Date Time, Customer ID, Product ID, Quantity, Price per Unit, Return Status, Sales Channel, Total Sales, Customer Age Group, Region, Product Category]\n",
       "Index: []"
      ]
     },
     "execution_count": 317,
     "metadata": {},
     "output_type": "execute_result"
    }
   ],
   "source": [
    "df[df['Quantity']>10]"
   ]
  },
  {
   "cell_type": "code",
   "execution_count": 564,
   "id": "2ad331b3-9f8f-4e22-9dd0-07135d58a1af",
   "metadata": {},
   "outputs": [],
   "source": [
    "df.loc[16119,'Quantity'] = 6"
   ]
  },
  {
   "cell_type": "code",
   "execution_count": 566,
   "id": "bb36a5c3-e137-40dd-a5b2-b60007f24f1b",
   "metadata": {},
   "outputs": [],
   "source": [
    "df.loc[15996,'Quantity'] = 3"
   ]
  },
  {
   "cell_type": "code",
   "execution_count": 165,
   "id": "35814fc3-50ae-4ec9-b003-f0b9965c66dd",
   "metadata": {},
   "outputs": [
    {
     "data": {
      "text/plain": [
       "<Axes: xlabel='Price per Unit'>"
      ]
     },
     "execution_count": 165,
     "metadata": {},
     "output_type": "execute_result"
    },
    {
     "data": {
      "image/png": "[encoded data removed]",
      "text/plain": [
       "<Figure size 640x480 with 1 Axes>"
      ]
     },
     "metadata": {},
     "output_type": "display_data"
    }
   ],
   "source": [
    "sns.boxplot(x=df['Price per Unit'])\n",
    "sns.boxplot(x=df['Total Sales'])"
   ]
  },
  {
   "cell_type": "markdown",
   "id": "4f7e8633-2521-409a-918f-03427ead5321",
   "metadata": {},
   "source": [
    "# Date Formatting\n"
   ]
  },
  {
   "cell_type": "code",
   "execution_count": 568,
   "id": "1a21c003-11a4-475e-b5fb-5144b2f330bb",
   "metadata": {},
   "outputs": [],
   "source": [
    "df['Date Time'] = pd.to_datetime(df['Date Time'],format = '%d/%m/%Y %H:%M')\n",
    "\n",
    "\n",
    "#df['Date Time'] = df['Date Time'].apply(lambda x: x.replace(year=2021) if x.year == 2031 else x)\n"
   ]
  },
  {
   "cell_type": "code",
   "execution_count": 329,
   "id": "485a9bae-8ebb-425b-9ad1-9b01c04c8af7",
   "metadata": {},
   "outputs": [
    {
     "data": {
      "text/html": [
       "<div>\n",
       "<style scoped>\n",
       "    .dataframe tbody tr th:only-of-type {\n",
       "        vertical-align: middle;\n",
       "    }\n",
       "\n",
       "    .dataframe tbody tr th {\n",
       "        vertical-align: top;\n",
       "    }\n",
       "\n",
       "    .dataframe thead th {\n",
       "        text-align: right;\n",
       "    }\n",
       "</style>\n",
       "<table border=\"1\" class=\"dataframe\">\n",
       "  <thead>\n",
       "    <tr style=\"text-align: right;\">\n",
       "      <th></th>\n",
       "      <th>Invoice Number</th>\n",
       "      <th>Date Time</th>\n",
       "      <th>Customer ID</th>\n",
       "      <th>Product ID</th>\n",
       "      <th>Quantity</th>\n",
       "      <th>Price per Unit</th>\n",
       "      <th>Return Status</th>\n",
       "      <th>Sales Channel</th>\n",
       "      <th>Total Sales</th>\n",
       "      <th>Customer Age Group</th>\n",
       "      <th>Region</th>\n",
       "      <th>Product Category</th>\n",
       "    </tr>\n",
       "  </thead>\n",
       "  <tbody>\n",
       "    <tr>\n",
       "      <th>0</th>\n",
       "      <td>10000</td>\n",
       "      <td>2021-01-01 10:20:00</td>\n",
       "      <td>74</td>\n",
       "      <td>3</td>\n",
       "      <td>2</td>\n",
       "      <td>24.00</td>\n",
       "      <td>Not Returned</td>\n",
       "      <td>In-Store</td>\n",
       "      <td>48.00</td>\n",
       "      <td>26-35</td>\n",
       "      <td>West</td>\n",
       "      <td>Footwear</td>\n",
       "    </tr>\n",
       "    <tr>\n",
       "      <th>1</th>\n",
       "      <td>10001</td>\n",
       "      <td>2021-01-08 03:10:00</td>\n",
       "      <td>92</td>\n",
       "      <td>10</td>\n",
       "      <td>6</td>\n",
       "      <td>40.24</td>\n",
       "      <td>Not Returned</td>\n",
       "      <td>In-Store</td>\n",
       "      <td>241.44</td>\n",
       "      <td>18-25</td>\n",
       "      <td>South</td>\n",
       "      <td>Footwear</td>\n",
       "    </tr>\n",
       "    <tr>\n",
       "      <th>2</th>\n",
       "      <td>1000</td>\n",
       "      <td>2021-01-05 20:24:00</td>\n",
       "      <td>86</td>\n",
       "      <td>20</td>\n",
       "      <td>5</td>\n",
       "      <td>25.96</td>\n",
       "      <td>Not Returned</td>\n",
       "      <td>Online</td>\n",
       "      <td>129.80</td>\n",
       "      <td>18-25</td>\n",
       "      <td>East</td>\n",
       "      <td>Clothing</td>\n",
       "    </tr>\n",
       "    <tr>\n",
       "      <th>3</th>\n",
       "      <td>10002</td>\n",
       "      <td>2021-01-11 03:43:00</td>\n",
       "      <td>57</td>\n",
       "      <td>11</td>\n",
       "      <td>6</td>\n",
       "      <td>85.86</td>\n",
       "      <td>Not Returned</td>\n",
       "      <td>Online</td>\n",
       "      <td>515.16</td>\n",
       "      <td>46-55</td>\n",
       "      <td>North</td>\n",
       "      <td>Clothing</td>\n",
       "    </tr>\n",
       "    <tr>\n",
       "      <th>4</th>\n",
       "      <td>10003</td>\n",
       "      <td>2021-01-02 07:26:00</td>\n",
       "      <td>73</td>\n",
       "      <td>25</td>\n",
       "      <td>5</td>\n",
       "      <td>72.88</td>\n",
       "      <td>Not Returned</td>\n",
       "      <td>In-Store</td>\n",
       "      <td>364.40</td>\n",
       "      <td>56+</td>\n",
       "      <td>West</td>\n",
       "      <td>Clothing</td>\n",
       "    </tr>\n",
       "  </tbody>\n",
       "</table>\n",
       "</div>"
      ],
      "text/plain": [
       "   Invoice Number           Date Time  Customer ID  Product ID  Quantity  \\\n",
       "0           10000 2021-01-01 10:20:00           74           3         2   \n",
       "1           10001 2021-01-08 03:10:00           92          10         6   \n",
       "2            1000 2021-01-05 20:24:00           86          20         5   \n",
       "3           10002 2021-01-11 03:43:00           57          11         6   \n",
       "4           10003 2021-01-02 07:26:00           73          25         5   \n",
       "\n",
       "   Price per Unit Return Status Sales Channel  Total Sales Customer Age Group  \\\n",
       "0           24.00  Not Returned      In-Store        48.00              26-35   \n",
       "1           40.24  Not Returned      In-Store       241.44              18-25   \n",
       "2           25.96  Not Returned        Online       129.80              18-25   \n",
       "3           85.86  Not Returned        Online       515.16              46-55   \n",
       "4           72.88  Not Returned      In-Store       364.40                56+   \n",
       "\n",
       "  Region Product Category  \n",
       "0   West         Footwear  \n",
       "1  South         Footwear  \n",
       "2   East         Clothing  \n",
       "3  North         Clothing  \n",
       "4   West         Clothing  "
      ]
     },
     "execution_count": 329,
     "metadata": {},
     "output_type": "execute_result"
    }
   ],
   "source": [
    "df.head()"
   ]
  },
  {
   "cell_type": "code",
   "execution_count": 570,
   "id": "6e9ac3ab-042b-458c-b60d-b771e0177083",
   "metadata": {},
   "outputs": [
    {
     "data": {
      "text/plain": [
       "9764   2031-01-26 01:03:00\n",
       "Name: Date Time, dtype: datetime64[ns]"
      ]
     },
     "execution_count": 570,
     "metadata": {},
     "output_type": "execute_result"
    }
   ],
   "source": [
    "df.loc[df['Date Time']>'2021-02-01','Date Time']"
   ]
  },
  {
   "cell_type": "code",
   "execution_count": 572,
   "id": "263b83e9-123a-4c23-9e50-4588615b60af",
   "metadata": {},
   "outputs": [],
   "source": [
    "df.loc[df['Date Time']>'2021-02-01','Date Time'] = '2021-01-26 01:03:00'"
   ]
  },
  {
   "cell_type": "code",
   "execution_count": 343,
   "id": "a508fcf6-40e3-4559-915f-5b6bc79ad8e9",
   "metadata": {},
   "outputs": [
    {
     "name": "stdout",
     "output_type": "stream",
     "text": [
      "<class 'pandas.core.frame.DataFrame'>\n",
      "RangeIndex: 16898 entries, 0 to 16897\n",
      "Data columns (total 12 columns):\n",
      " #   Column              Non-Null Count  Dtype         \n",
      "---  ------              --------------  -----         \n",
      " 0   Invoice Number      16898 non-null  int64         \n",
      " 1   Date Time           16898 non-null  datetime64[ns]\n",
      " 2   Customer ID         16898 non-null  int64         \n",
      " 3   Product ID          16898 non-null  int64         \n",
      " 4   Quantity            16898 non-null  int64         \n",
      " 5   Price per Unit      16898 non-null  float64       \n",
      " 6   Return Status       16898 non-null  object        \n",
      " 7   Sales Channel       16898 non-null  object        \n",
      " 8   Total Sales         16898 non-null  float64       \n",
      " 9   Customer Age Group  16898 non-null  object        \n",
      " 10  Region              16898 non-null  object        \n",
      " 11  Product Category    16898 non-null  object        \n",
      "dtypes: datetime64[ns](1), float64(2), int64(4), object(5)\n",
      "memory usage: 1.5+ MB\n"
     ]
    }
   ],
   "source": [
    "df.info()"
   ]
  },
  {
   "cell_type": "code",
   "execution_count": null,
   "id": "2d3edbb8-a947-46c5-aea2-6ae18563ae84",
   "metadata": {},
   "outputs": [],
   "source": []
  },
  {
   "cell_type": "markdown",
   "id": "224d6d82-f378-4e8c-9c42-c7e057793956",
   "metadata": {},
   "source": [
    "# EDA"
   ]
  },
  {
   "cell_type": "code",
   "execution_count": 178,
   "id": "8da4cf81-9110-44a6-9af5-5f5930ccb8e2",
   "metadata": {},
   "outputs": [
    {
     "data": {
      "text/html": [
       "<div>\n",
       "<style scoped>\n",
       "    .dataframe tbody tr th:only-of-type {\n",
       "        vertical-align: middle;\n",
       "    }\n",
       "\n",
       "    .dataframe tbody tr th {\n",
       "        vertical-align: top;\n",
       "    }\n",
       "\n",
       "    .dataframe thead th {\n",
       "        text-align: right;\n",
       "    }\n",
       "</style>\n",
       "<table border=\"1\" class=\"dataframe\">\n",
       "  <thead>\n",
       "    <tr style=\"text-align: right;\">\n",
       "      <th></th>\n",
       "      <th>Invoice Number</th>\n",
       "      <th>Date Time</th>\n",
       "      <th>Customer ID</th>\n",
       "      <th>Product ID</th>\n",
       "      <th>Quantity</th>\n",
       "      <th>Price per Unit</th>\n",
       "      <th>Total Sales</th>\n",
       "    </tr>\n",
       "  </thead>\n",
       "  <tbody>\n",
       "    <tr>\n",
       "      <th>count</th>\n",
       "      <td>16550.000000</td>\n",
       "      <td>16550</td>\n",
       "      <td>16550.000000</td>\n",
       "      <td>16550.000000</td>\n",
       "      <td>16550.000000</td>\n",
       "      <td>16550.000000</td>\n",
       "      <td>16550.000000</td>\n",
       "    </tr>\n",
       "    <tr>\n",
       "      <th>mean</th>\n",
       "      <td>10473.106284</td>\n",
       "      <td>2021-01-06 17:06:10.125679616</td>\n",
       "      <td>51.097281</td>\n",
       "      <td>25.447492</td>\n",
       "      <td>3.984834</td>\n",
       "      <td>60.130172</td>\n",
       "      <td>240.288611</td>\n",
       "    </tr>\n",
       "    <tr>\n",
       "      <th>min</th>\n",
       "      <td>1000.000000</td>\n",
       "      <td>2021-01-01 00:01:00</td>\n",
       "      <td>1.000000</td>\n",
       "      <td>1.000000</td>\n",
       "      <td>1.000000</td>\n",
       "      <td>20.000000</td>\n",
       "      <td>20.120000</td>\n",
       "    </tr>\n",
       "    <tr>\n",
       "      <th>25%</th>\n",
       "      <td>5734.000000</td>\n",
       "      <td>2021-01-03 18:49:00</td>\n",
       "      <td>27.000000</td>\n",
       "      <td>13.000000</td>\n",
       "      <td>2.000000</td>\n",
       "      <td>40.072500</td>\n",
       "      <td>107.947500</td>\n",
       "    </tr>\n",
       "    <tr>\n",
       "      <th>50%</th>\n",
       "      <td>10461.000000</td>\n",
       "      <td>2021-01-06 12:00:30</td>\n",
       "      <td>51.500000</td>\n",
       "      <td>25.000000</td>\n",
       "      <td>4.000000</td>\n",
       "      <td>59.890000</td>\n",
       "      <td>200.565000</td>\n",
       "    </tr>\n",
       "    <tr>\n",
       "      <th>75%</th>\n",
       "      <td>15201.750000</td>\n",
       "      <td>2021-01-09 06:08:00</td>\n",
       "      <td>75.000000</td>\n",
       "      <td>38.000000</td>\n",
       "      <td>6.000000</td>\n",
       "      <td>80.637500</td>\n",
       "      <td>342.435000</td>\n",
       "    </tr>\n",
       "    <tr>\n",
       "      <th>max</th>\n",
       "      <td>19999.000000</td>\n",
       "      <td>2031-01-26 01:03:00</td>\n",
       "      <td>100.000000</td>\n",
       "      <td>50.000000</td>\n",
       "      <td>10.000000</td>\n",
       "      <td>99.990000</td>\n",
       "      <td>699.930000</td>\n",
       "    </tr>\n",
       "    <tr>\n",
       "      <th>std</th>\n",
       "      <td>5471.114018</td>\n",
       "      <td>NaN</td>\n",
       "      <td>28.521582</td>\n",
       "      <td>14.394164</td>\n",
       "      <td>1.994390</td>\n",
       "      <td>23.225678</td>\n",
       "      <td>159.634292</td>\n",
       "    </tr>\n",
       "  </tbody>\n",
       "</table>\n",
       "</div>"
      ],
      "text/plain": [
       "       Invoice Number                      Date Time   Customer ID  \\\n",
       "count    16550.000000                          16550  16550.000000   \n",
       "mean     10473.106284  2021-01-06 17:06:10.125679616     51.097281   \n",
       "min       1000.000000            2021-01-01 00:01:00      1.000000   \n",
       "25%       5734.000000            2021-01-03 18:49:00     27.000000   \n",
       "50%      10461.000000            2021-01-06 12:00:30     51.500000   \n",
       "75%      15201.750000            2021-01-09 06:08:00     75.000000   \n",
       "max      19999.000000            2031-01-26 01:03:00    100.000000   \n",
       "std       5471.114018                            NaN     28.521582   \n",
       "\n",
       "         Product ID      Quantity  Price per Unit   Total Sales  \n",
       "count  16550.000000  16550.000000    16550.000000  16550.000000  \n",
       "mean      25.447492      3.984834       60.130172    240.288611  \n",
       "min        1.000000      1.000000       20.000000     20.120000  \n",
       "25%       13.000000      2.000000       40.072500    107.947500  \n",
       "50%       25.000000      4.000000       59.890000    200.565000  \n",
       "75%       38.000000      6.000000       80.637500    342.435000  \n",
       "max       50.000000     10.000000       99.990000    699.930000  \n",
       "std       14.394164      1.994390       23.225678    159.634292  "
      ]
     },
     "execution_count": 178,
     "metadata": {},
     "output_type": "execute_result"
    }
   ],
   "source": [
    "df.describe()"
   ]
  },
  {
   "cell_type": "code",
   "execution_count": 345,
   "id": "1548f397-016f-4538-8f7e-f1075792d80d",
   "metadata": {},
   "outputs": [
    {
     "data": {
      "text/plain": [
       "Invoice Number        16817\n",
       "Date Time              9998\n",
       "Customer ID             100\n",
       "Product ID               50\n",
       "Quantity                  8\n",
       "Price per Unit         7008\n",
       "Return Status             2\n",
       "Sales Channel             2\n",
       "Total Sales           12783\n",
       "Customer Age Group        5\n",
       "Region                    4\n",
       "Product Category          3\n",
       "dtype: int64"
      ]
     },
     "execution_count": 345,
     "metadata": {},
     "output_type": "execute_result"
    }
   ],
   "source": [
    "df.nunique()"
   ]
  },
  {
   "cell_type": "code",
   "execution_count": null,
   "id": "5cdb4df4-ccaf-451d-a73b-72e010c0204f",
   "metadata": {},
   "outputs": [],
   "source": [
    "#df.set_index(['Invoice Number','Product ID'],inplace = True)"
   ]
  },
  {
   "cell_type": "markdown",
   "id": "530c45ae-7589-4d75-afb4-15d41eb1ad22",
   "metadata": {},
   "source": [
    "**1.Sales Performance**"
   ]
  },
  {
   "cell_type": "code",
   "execution_count": 355,
   "id": "d3261854-d4ad-4a82-bb48-55fa28a7e021",
   "metadata": {},
   "outputs": [
    {
     "data": {
      "text/plain": [
       "4056084.54"
      ]
     },
     "execution_count": 355,
     "metadata": {},
     "output_type": "execute_result"
    }
   ],
   "source": [
    "df['Total Sales'].sum()"
   ]
  },
  {
   "cell_type": "code",
   "execution_count": null,
   "id": "d2407241-0bb0-4c62-a8a2-497cfa08b6fe",
   "metadata": {},
   "outputs": [],
   "source": []
  },
  {
   "cell_type": "code",
   "execution_count": 385,
   "id": "7653aa54-1058-44fd-ac7e-0dc5194e49be",
   "metadata": {},
   "outputs": [
    {
     "data": {
      "text/html": [
       "<div>\n",
       "<style scoped>\n",
       "    .dataframe tbody tr th:only-of-type {\n",
       "        vertical-align: middle;\n",
       "    }\n",
       "\n",
       "    .dataframe tbody tr th {\n",
       "        vertical-align: top;\n",
       "    }\n",
       "\n",
       "    .dataframe thead th {\n",
       "        text-align: right;\n",
       "    }\n",
       "</style>\n",
       "<table border=\"1\" class=\"dataframe\">\n",
       "  <thead>\n",
       "    <tr style=\"text-align: right;\">\n",
       "      <th></th>\n",
       "      <th></th>\n",
       "      <th>Total Sales</th>\n",
       "    </tr>\n",
       "    <tr>\n",
       "      <th>Invoice Number</th>\n",
       "      <th>Customer ID</th>\n",
       "      <th></th>\n",
       "    </tr>\n",
       "  </thead>\n",
       "  <tbody>\n",
       "    <tr>\n",
       "      <th>10069</th>\n",
       "      <th>4</th>\n",
       "      <td>2899.11</td>\n",
       "    </tr>\n",
       "    <tr>\n",
       "      <th>10678</th>\n",
       "      <th>68</th>\n",
       "      <td>2023.89</td>\n",
       "    </tr>\n",
       "    <tr>\n",
       "      <th>10425</th>\n",
       "      <th>45</th>\n",
       "      <td>1747.16</td>\n",
       "    </tr>\n",
       "    <tr>\n",
       "      <th>11311</th>\n",
       "      <th>90</th>\n",
       "      <td>1739.53</td>\n",
       "    </tr>\n",
       "    <tr>\n",
       "      <th>10187</th>\n",
       "      <th>17</th>\n",
       "      <td>1486.47</td>\n",
       "    </tr>\n",
       "  </tbody>\n",
       "</table>\n",
       "</div>"
      ],
      "text/plain": [
       "                            Total Sales\n",
       "Invoice Number Customer ID             \n",
       "10069          4                2899.11\n",
       "10678          68               2023.89\n",
       "10425          45               1747.16\n",
       "11311          90               1739.53\n",
       "10187          17               1486.47"
      ]
     },
     "execution_count": 385,
     "metadata": {},
     "output_type": "execute_result"
    }
   ],
   "source": [
    "df.groupby(['Invoice Number', 'Customer ID'])[['Total Sales' ]].sum().sort_values('Total Sales',ascending = False).head(5)"
   ]
  },
  {
   "cell_type": "code",
   "execution_count": 395,
   "id": "bea378c9-ce21-4fb3-ba21-64d8ebdf378b",
   "metadata": {},
   "outputs": [
    {
     "data": {
      "text/plain": [
       "Date Time\n",
       "2021-01-01    356726.52\n",
       "2021-01-02    359684.26\n",
       "2021-01-03    370980.07\n",
       "2021-01-04    370179.61\n",
       "2021-01-05    374335.48\n",
       "2021-01-06    382449.04\n",
       "2021-01-07    382629.52\n",
       "2021-01-08    359478.44\n",
       "2021-01-09    361295.73\n",
       "2021-01-10    374523.45\n",
       "2021-01-11    363611.08\n",
       "2021-01-26       191.34\n",
       "Name: Total Sales, dtype: float64"
      ]
     },
     "execution_count": 395,
     "metadata": {},
     "output_type": "execute_result"
    }
   ],
   "source": [
    "df.groupby(df['Date Time'].dt.date)['Total Sales'].sum()"
   ]
  },
  {
   "cell_type": "code",
   "execution_count": 463,
   "id": "b1ac0e66-7470-4fac-97c9-f7f95b1504ea",
   "metadata": {},
   "outputs": [
    {
     "data": {
      "text/plain": [
       "Date Time\n",
       "Tuesday      374335.48\n",
       "Wednesday    382449.04\n",
       "Thursday     382629.52\n",
       "Friday       716204.96\n",
       "Saturday     720979.99\n",
       "Monday       733790.69\n",
       "Sunday       745503.52\n",
       "Name: Total Sales, dtype: float64"
      ]
     },
     "execution_count": 463,
     "metadata": {},
     "output_type": "execute_result"
    }
   ],
   "source": [
    "df.groupby(df['Date Time'].dt.day_name())['Total Sales'].sum().sort_values()"
   ]
  },
  {
   "cell_type": "code",
   "execution_count": 411,
   "id": "721012f0-8c61-4b16-82b0-cb09b6dd5085",
   "metadata": {},
   "outputs": [
    {
     "data": {
      "text/html": [
       "<div>\n",
       "<style scoped>\n",
       "    .dataframe tbody tr th:only-of-type {\n",
       "        vertical-align: middle;\n",
       "    }\n",
       "\n",
       "    .dataframe tbody tr th {\n",
       "        vertical-align: top;\n",
       "    }\n",
       "\n",
       "    .dataframe thead th {\n",
       "        text-align: right;\n",
       "    }\n",
       "</style>\n",
       "<table border=\"1\" class=\"dataframe\">\n",
       "  <thead>\n",
       "    <tr style=\"text-align: right;\">\n",
       "      <th></th>\n",
       "      <th>Invoice Number</th>\n",
       "      <th>Date Time</th>\n",
       "      <th>Customer ID</th>\n",
       "      <th>Product ID</th>\n",
       "      <th>Quantity</th>\n",
       "      <th>Price per Unit</th>\n",
       "      <th>Return Status</th>\n",
       "      <th>Sales Channel</th>\n",
       "      <th>Total Sales</th>\n",
       "      <th>Customer Age Group</th>\n",
       "      <th>Region</th>\n",
       "      <th>Product Category</th>\n",
       "    </tr>\n",
       "  </thead>\n",
       "  <tbody>\n",
       "  </tbody>\n",
       "</table>\n",
       "</div>"
      ],
      "text/plain": [
       "Empty DataFrame\n",
       "Columns: [Invoice Number, Date Time, Customer ID, Product ID, Quantity, Price per Unit, Return Status, Sales Channel, Total Sales, Customer Age Group, Region, Product Category]\n",
       "Index: []"
      ]
     },
     "execution_count": 411,
     "metadata": {},
     "output_type": "execute_result"
    }
   ],
   "source": [
    "df[df['Date Time']>'2021-01-12']"
   ]
  },
  {
   "cell_type": "code",
   "execution_count": 574,
   "id": "0fff4a91-da2f-4656-b0b8-128ca869cbd1",
   "metadata": {},
   "outputs": [],
   "source": [
    "df = df.drop(9764)"
   ]
  },
  {
   "cell_type": "code",
   "execution_count": 576,
   "id": "e756b272-abd3-45b4-9af9-43cf6a1679d1",
   "metadata": {},
   "outputs": [
    {
     "data": {
      "text/plain": [
       "<Axes: xlabel='Date Time'>"
      ]
     },
     "execution_count": 576,
     "metadata": {},
     "output_type": "execute_result"
    },
    {
     "data": {
      "image/png": "[encoded data removed]",
      "text/plain": [
       "<Figure size 640x480 with 1 Axes>"
      ]
     },
     "metadata": {},
     "output_type": "display_data"
    }
   ],
   "source": [
    "df.groupby(df['Date Time'].dt.date)['Total Sales'].sum().plot()"
   ]
  },
  {
   "cell_type": "code",
   "execution_count": 783,
   "id": "6e67ddfd-8ea0-439a-8f4e-5b77584b291a",
   "metadata": {},
   "outputs": [
    {
     "data": {
      "text/plain": [
       "<Axes: xlabel='Date Time'>"
      ]
     },
     "execution_count": 783,
     "metadata": {},
     "output_type": "execute_result"
    },
    {
     "data": {
      "image/png": "[encoded data removed]",
      "text/plain": [
       "<Figure size 640x480 with 1 Axes>"
      ]
     },
     "metadata": {},
     "output_type": "display_data"
    }
   ],
   "source": [
    "df.groupby([df['Date Time'].dt.hour,'Sales Channel'])['Total Sales'].sum().unstack().plot(kind = 'line')"
   ]
  },
  {
   "cell_type": "code",
   "execution_count": 775,
   "id": "e2748f61-a305-4877-b5d2-f5fc7fce562f",
   "metadata": {},
   "outputs": [
    {
     "data": {
      "text/plain": [
       "<Axes: xlabel='Date Time'>"
      ]
     },
     "execution_count": 775,
     "metadata": {},
     "output_type": "execute_result"
    },
    {
     "data": {
      "image/png": "[encoded data removed]",
      "text/plain": [
       "<Figure size 640x480 with 1 Axes>"
      ]
     },
     "metadata": {},
     "output_type": "display_data"
    }
   ],
   "source": [
    "df.groupby([df['Date Time'].dt.day_name()])['Total Sales'].sum().plot(kind = 'bar')"
   ]
  },
  {
   "cell_type": "code",
   "execution_count": 423,
   "id": "d3c89131-e5c7-47a4-a0ce-e46c57af2188",
   "metadata": {},
   "outputs": [
    {
     "data": {
      "text/plain": [
       "Product Category\n",
       "Accessories     873524.91\n",
       "Clothing       1400668.01\n",
       "Footwear       1781700.28\n",
       "Name: Total Sales, dtype: float64"
      ]
     },
     "execution_count": 423,
     "metadata": {},
     "output_type": "execute_result"
    }
   ],
   "source": [
    "df.groupby('Product Category')['Total Sales'].sum()"
   ]
  },
  {
   "cell_type": "code",
   "execution_count": 425,
   "id": "0ddceaa7-029d-4e3d-bae9-521ff402921f",
   "metadata": {},
   "outputs": [
    {
     "data": {
      "text/plain": [
       "Sales Channel\n",
       "In-Store    1604117.69\n",
       "Online      2451775.51\n",
       "Name: Total Sales, dtype: float64"
      ]
     },
     "execution_count": 425,
     "metadata": {},
     "output_type": "execute_result"
    }
   ],
   "source": [
    "df.groupby('Sales Channel')['Total Sales'].sum()"
   ]
  },
  {
   "cell_type": "code",
   "execution_count": 445,
   "id": "00b9bcb7-619e-46e9-afe2-9861e778bc48",
   "metadata": {},
   "outputs": [
    {
     "data": {
      "text/plain": [
       "<Axes: xlabel='Product Category'>"
      ]
     },
     "execution_count": 445,
     "metadata": {},
     "output_type": "execute_result"
    },
    {
     "data": {
      "image/png": "[encoded data removed]",
      "text/plain": [
       "<Figure size 640x480 with 1 Axes>"
      ]
     },
     "metadata": {},
     "output_type": "display_data"
    }
   ],
   "source": [
    "df.groupby(['Product Category','Sales Channel'])['Total Sales'].sum().unstack().plot(kind = 'bar',stacked = True)"
   ]
  },
  {
   "cell_type": "code",
   "execution_count": 449,
   "id": "4de23f67-5075-49e6-ac96-35aff8985f46",
   "metadata": {},
   "outputs": [
    {
     "data": {
      "text/plain": [
       "<Axes: xlabel='Region'>"
      ]
     },
     "execution_count": 449,
     "metadata": {},
     "output_type": "execute_result"
    },
    {
     "data": {
      "image/png": "[encoded data removed]",
      "text/plain": [
       "<Figure size 640x480 with 1 Axes>"
      ]
     },
     "metadata": {},
     "output_type": "display_data"
    }
   ],
   "source": [
    "df.groupby(['Region'])['Total Sales'].sum().plot(kind = 'bar')"
   ]
  },
  {
   "cell_type": "code",
   "execution_count": 453,
   "id": "f58ef5cc-43d7-4f70-a75e-271123c3f462",
   "metadata": {},
   "outputs": [
    {
     "data": {
      "text/plain": [
       "<Axes: xlabel='Region'>"
      ]
     },
     "execution_count": 453,
     "metadata": {},
     "output_type": "execute_result"
    },
    {
     "data": {
      "image/png": "[encoded data removed]",
      "text/plain": [
       "<Figure size 640x480 with 1 Axes>"
      ]
     },
     "metadata": {},
     "output_type": "display_data"
    }
   ],
   "source": [
    "df.groupby(['Region','Return Status'])['Total Sales'].sum().unstack().plot(kind = 'bar',stacked = True)"
   ]
  },
  {
   "cell_type": "markdown",
   "id": "c50fa884-3b8c-4c58-98b4-8470fa19dbcc",
   "metadata": {},
   "source": [
    "**2. Customer Bhaviour**"
   ]
  },
  {
   "cell_type": "code",
   "execution_count": 465,
   "id": "6a67520f-bf16-4724-9290-63b9421819f7",
   "metadata": {},
   "outputs": [
    {
     "data": {
      "text/plain": [
       "<Axes: xlabel='Customer Age Group'>"
      ]
     },
     "execution_count": 465,
     "metadata": {},
     "output_type": "execute_result"
    },
    {
     "data": {
      "image/png": "[encoded data removed]",
      "text/plain": [
       "<Figure size 640x480 with 1 Axes>"
      ]
     },
     "metadata": {},
     "output_type": "display_data"
    }
   ],
   "source": [
    "df.groupby(['Customer Age Group','Sales Channel'])['Total Sales'].sum().unstack().plot(kind = 'bar',stacked = True)"
   ]
  },
  {
   "cell_type": "code",
   "execution_count": 474,
   "id": "f2e124a9-c69d-4121-ab43-525c756d743c",
   "metadata": {},
   "outputs": [
    {
     "data": {
      "text/plain": [
       "Customer ID\n",
       "58     52299.16\n",
       "4      51892.18\n",
       "5      48838.04\n",
       "100    48358.92\n",
       "94     48346.04\n",
       "87     47335.75\n",
       "10     47231.16\n",
       "6      46865.48\n",
       "93     46019.19\n",
       "26     45951.65\n",
       "Name: Total Sales, dtype: float64"
      ]
     },
     "execution_count": 474,
     "metadata": {},
     "output_type": "execute_result"
    }
   ],
   "source": [
    "df.groupby('Customer ID')['Total Sales'].sum().sort_values(ascending = False).head(10)"
   ]
  },
  {
   "cell_type": "code",
   "execution_count": 476,
   "id": "8722b682-5dc4-4c97-8203-976ca4f49297",
   "metadata": {},
   "outputs": [
    {
     "data": {
      "text/plain": [
       "Customer ID\n",
       "58    219\n",
       "4     201\n",
       "94    194\n",
       "30    193\n",
       "52    192\n",
       "84    192\n",
       "10    191\n",
       "26    191\n",
       "24    190\n",
       "63    189\n",
       "Name: Invoice Number, dtype: int64"
      ]
     },
     "execution_count": 476,
     "metadata": {},
     "output_type": "execute_result"
    }
   ],
   "source": [
    "df.groupby('Customer ID')['Invoice Number'].count().sort_values(ascending = False).head(10)"
   ]
  },
  {
   "cell_type": "code",
   "execution_count": 478,
   "id": "3059ae50-cb1a-4a1a-b8bf-247a777a555e",
   "metadata": {},
   "outputs": [
    {
     "data": {
      "text/plain": [
       "Customer ID\n",
       "5      268.340879\n",
       "11     267.590429\n",
       "100    267.176354\n",
       "95     263.799677\n",
       "87     258.665301\n",
       "4      258.170050\n",
       "51     257.234201\n",
       "93     257.090447\n",
       "97     255.393558\n",
       "78     255.000974\n",
       "dtype: float64"
      ]
     },
     "execution_count": 478,
     "metadata": {},
     "output_type": "execute_result"
    }
   ],
   "source": [
    "(df.groupby('Customer ID')['Total Sales'].sum()/df.groupby('Customer ID')['Invoice Number'].count()).sort_values(ascending = False).head(10)"
   ]
  },
  {
   "cell_type": "code",
   "execution_count": null,
   "id": "8ea503fd-ed23-4a37-9cc8-9db194ee6fc1",
   "metadata": {},
   "outputs": [],
   "source": []
  },
  {
   "cell_type": "code",
   "execution_count": 417,
   "id": "543a1fac-dc52-4a9e-b9fa-7fc4e003d5e5",
   "metadata": {},
   "outputs": [
    {
     "data": {
      "text/plain": [
       "Index(['Invoice Number', 'Date Time', 'Customer ID', 'Product ID', 'Quantity',\n",
       "       'Price per Unit', 'Return Status', 'Sales Channel', 'Total Sales',\n",
       "       'Customer Age Group', 'Region', 'Product Category'],\n",
       "      dtype='object')"
      ]
     },
     "execution_count": 417,
     "metadata": {},
     "output_type": "execute_result"
    }
   ],
   "source": [
    "df.columns"
   ]
  },
  {
   "cell_type": "code",
   "execution_count": null,
   "id": "98e0e849-7000-4f02-bb4a-424355735e2d",
   "metadata": {},
   "outputs": [],
   "source": [
    "#top-selling products"
   ]
  },
  {
   "cell_type": "code",
   "execution_count": 248,
   "id": "c992621c-1bfd-4514-b247-dd5afa049f17",
   "metadata": {},
   "outputs": [
    {
     "data": {
      "text/plain": [
       "Product ID\n",
       "3     1507\n",
       "22    1505\n",
       "40    1505\n",
       "49    1494\n",
       "21    1481\n",
       "5     1468\n",
       "2     1460\n",
       "45    1457\n",
       "19    1450\n",
       "32    1448\n",
       "Name: Quantity, dtype: int64"
      ]
     },
     "execution_count": 248,
     "metadata": {},
     "output_type": "execute_result"
    }
   ],
   "source": [
    "df.groupby('Product ID')['Quantity'].sum().sort_values(ascending = False).head(10)"
   ]
  },
  {
   "cell_type": "code",
   "execution_count": 250,
   "id": "f90ab1e3-cc89-4d29-9af8-46a16a01c6f4",
   "metadata": {},
   "outputs": [
    {
     "data": {
      "text/plain": [
       "Product ID\n",
       "40    93071.89\n",
       "22    93056.90\n",
       "3     92487.59\n",
       "21    90995.58\n",
       "49    88388.18\n",
       "38    87479.46\n",
       "9     87450.04\n",
       "5     87449.90\n",
       "19    86981.47\n",
       "2     86885.10\n",
       "Name: Total Sales, dtype: float64"
      ]
     },
     "execution_count": 250,
     "metadata": {},
     "output_type": "execute_result"
    }
   ],
   "source": [
    "df.groupby('Product ID')['Total Sales'].sum().sort_values(ascending = False).head(10)"
   ]
  },
  {
   "cell_type": "code",
   "execution_count": null,
   "id": "48baeb3d-a710-4b59-bb59-d062a29f0e1b",
   "metadata": {},
   "outputs": [],
   "source": [
    "#unit Prices"
   ]
  },
  {
   "cell_type": "code",
   "execution_count": 349,
   "id": "b60ebdf8-632d-49d9-923d-e5db60baab40",
   "metadata": {},
   "outputs": [
    {
     "data": {
      "text/plain": [
       "Product ID  Region  Sales Channel\n",
       "24          West    In-Store         73.658636\n",
       "27          North   In-Store         70.970435\n",
       "46          South   In-Store         69.943810\n",
       "7           North   In-Store         69.231176\n",
       "22          West    Online           69.010851\n",
       "                                       ...    \n",
       "50          West    In-Store         51.509333\n",
       "15          North   In-Store         51.436667\n",
       "9           North   Online           51.300208\n",
       "39          East    In-Store         51.245833\n",
       "6           North   In-Store         50.723871\n",
       "Name: Price per Unit, Length: 400, dtype: float64"
      ]
     },
     "execution_count": 349,
     "metadata": {},
     "output_type": "execute_result"
    }
   ],
   "source": [
    "df.groupby(['Product ID','Region','Sales Channel'])['Price per Unit'].mean().sort_values(ascending = False)"
   ]
  },
  {
   "cell_type": "code",
   "execution_count": 351,
   "id": "e4f4d668-9a7f-46bd-98c4-fd771ddee6b9",
   "metadata": {},
   "outputs": [
    {
     "data": {
      "text/plain": [
       "Product ID  Sales Channel\n",
       "17          Online           64.050580\n",
       "40          In-Store         63.696687\n",
       "9           In-Store         63.351223\n",
       "45          In-Store         62.987464\n",
       "22          Online           62.951227\n",
       "                               ...    \n",
       "43          In-Store         56.831404\n",
       "12          In-Store         56.526154\n",
       "11          In-Store         56.493529\n",
       "32          In-Store         56.313028\n",
       "44          In-Store         56.243459\n",
       "Name: Price per Unit, Length: 100, dtype: float64"
      ]
     },
     "execution_count": 351,
     "metadata": {},
     "output_type": "execute_result"
    }
   ],
   "source": [
    "df.groupby(['Product ID','Sales Channel'])['Price per Unit'].mean().sort_values(ascending = False)"
   ]
  },
  {
   "cell_type": "code",
   "execution_count": 638,
   "id": "5942fa86-8bee-450c-8e2f-def91e595de9",
   "metadata": {},
   "outputs": [
    {
     "data": {
      "text/plain": [
       "<Axes: xlabel='Date Time'>"
      ]
     },
     "execution_count": 638,
     "metadata": {},
     "output_type": "execute_result"
    },
    {
     "data": {
      "image/png": "[encoded data removed]",
      "text/plain": [
       "<Figure size 640x480 with 1 Axes>"
      ]
     },
     "metadata": {},
     "output_type": "display_data"
    }
   ],
   "source": [
    "df[(df['Date Time']>'2021-01-01')&(df['Date Time']<'2021-01-5')].groupby(df['Date Time'].dt.day)['Total Sales'].sum().plot(kind = 'bar')"
   ]
  },
  {
   "cell_type": "code",
   "execution_count": 514,
   "id": "8351af69-3706-4ef5-a1cc-86f0151263e3",
   "metadata": {},
   "outputs": [],
   "source": [
    "costomer_visits = df.groupby('Customer ID')['Invoice Number'].nunique()"
   ]
  },
  {
   "cell_type": "code",
   "execution_count": 520,
   "id": "9945abdd-91b4-4bb4-9603-b1b427ebc700",
   "metadata": {},
   "outputs": [
    {
     "data": {
      "text/plain": [
       "Customer ID\n",
       "4     192\n",
       "10    191\n",
       "26    191\n",
       "52    192\n",
       "58    216\n",
       "84    192\n",
       "94    194\n",
       "Name: Invoice Number, dtype: int64"
      ]
     },
     "execution_count": 520,
     "metadata": {},
     "output_type": "execute_result"
    }
   ],
   "source": [
    "costomer_visits[costomer_visits > 190]"
   ]
  },
  {
   "cell_type": "code",
   "execution_count": 624,
   "id": "3cce9dc2-adf2-4067-8597-be09eb2b949f",
   "metadata": {},
   "outputs": [],
   "source": [
    "df_value_customer = df.groupby('Customer ID')['Total Sales'].sum().sort_values(ascending = False)\n"
   ]
  },
  {
   "cell_type": "markdown",
   "id": "07c00667-fbd9-4d96-8b3e-5f871628abd2",
   "metadata": {},
   "source": [
    "KPI \n",
    "==\n"
   ]
  },
  {
   "cell_type": "markdown",
   "id": "fe686ab4-aa03-4149-bf46-465bbb74ba61",
   "metadata": {},
   "source": [
    "**1.Product Penetration:**"
   ]
  },
  {
   "cell_type": "code",
   "execution_count": 675,
   "id": "eb8ee842-462f-45e7-8490-8493c9ec10e2",
   "metadata": {},
   "outputs": [
    {
     "data": {
      "text/plain": [
       "16816"
      ]
     },
     "execution_count": 675,
     "metadata": {},
     "output_type": "execute_result"
    }
   ],
   "source": [
    "df['Invoice Number'].nunique()"
   ]
  },
  {
   "cell_type": "code",
   "execution_count": 677,
   "id": "d4f78529-97cb-4d88-8797-b4b851d0c480",
   "metadata": {
    "scrolled": true
   },
   "outputs": [
    {
     "data": {
      "text/plain": [
       "Product ID\n",
       "1     1.914843\n",
       "2     2.164605\n",
       "3     2.164605\n",
       "4     1.908896\n",
       "5     2.194339\n",
       "6     1.932683\n",
       "7     1.920790\n",
       "8     1.849429\n",
       "9     2.075404\n",
       "10    1.944577\n",
       "11    2.015937\n",
       "12    1.891056\n",
       "13    1.968363\n",
       "14    1.992150\n",
       "15    1.926736\n",
       "16    2.027831\n",
       "17    1.926736\n",
       "18    1.938630\n",
       "19    2.158658\n",
       "20    1.932683\n",
       "21    2.206232\n",
       "22    2.194339\n",
       "23    2.170552\n",
       "24    2.009990\n",
       "25    2.087298\n",
       "26    1.920790\n",
       "27    1.897003\n",
       "28    2.140818\n",
       "29    1.992150\n",
       "30    2.075404\n",
       "31    1.843482\n",
       "32    2.105138\n",
       "33    1.855376\n",
       "34    1.998097\n",
       "35    1.897003\n",
       "36    2.105138\n",
       "37    1.944577\n",
       "38    2.140818\n",
       "39    1.998097\n",
       "40    2.170552\n",
       "41    1.986204\n",
       "42    2.033777\n",
       "43    1.974310\n",
       "44    1.968363\n",
       "45    2.182445\n",
       "46    1.998097\n",
       "47    1.855376\n",
       "48    1.843482\n",
       "49    2.218126\n",
       "50    1.766175\n",
       "Name: Invoice Number, dtype: float64"
      ]
     },
     "execution_count": 677,
     "metadata": {},
     "output_type": "execute_result"
    }
   ],
   "source": [
    "(df.groupby('Product ID')['Invoice Number'].count()/df['Invoice Number'].nunique())*100"
   ]
  },
  {
   "cell_type": "code",
   "execution_count": null,
   "id": "11332afb-07c6-4746-8da3-5f77835df788",
   "metadata": {},
   "outputs": [],
   "source": [
    "production_penetration = df.groupby('Product ID')['Invoice Number'].nunique()/df['Invoice Number'].nunique()*100\n",
    "production_penetration_df = production_penetration.reset_index()\n",
    "production_penetration_df.columns = ['Product ID', 'Product Penetration (%)']"
   ]
  },
  {
   "cell_type": "code",
   "execution_count": null,
   "id": "a29590b0-3095-49aa-ac8d-7564472b4d40",
   "metadata": {},
   "outputs": [],
   "source": [
    "production_penetration_df.to_csv(\"production_penetration_df\", index=False, encoding='utf-8')"
   ]
  },
  {
   "cell_type": "code",
   "execution_count": null,
   "id": "64b6bb01-2ba5-4653-8943-13fdd6da4360",
   "metadata": {},
   "outputs": [],
   "source": []
  },
  {
   "cell_type": "markdown",
   "id": "e27ad6d2-b6e5-419e-abd2-71727f7fdbc5",
   "metadata": {},
   "source": [
    "**2. Average Invoice Value:**"
   ]
  },
  {
   "cell_type": "code",
   "execution_count": 691,
   "id": "b22ec60e-5d29-448a-a799-5b32dbcb29d0",
   "metadata": {},
   "outputs": [
    {
     "data": {
      "text/plain": [
       "Invoice Number\n",
       "1000     129.80\n",
       "1001      64.32\n",
       "1002      91.12\n",
       "1003     945.06\n",
       "1004     562.94\n",
       "          ...  \n",
       "19995    299.46\n",
       "19996    142.38\n",
       "19997    482.23\n",
       "19998     70.24\n",
       "19999    403.69\n",
       "Name: Total Sales, Length: 16816, dtype: float64"
      ]
     },
     "execution_count": 691,
     "metadata": {},
     "output_type": "execute_result"
    }
   ],
   "source": [
    "df.groupby('Invoice Number')['Total Sales'].sum()"
   ]
  },
  {
   "cell_type": "code",
   "execution_count": null,
   "id": "6f6656d9-4131-49c4-90ee-6688585c3281",
   "metadata": {},
   "outputs": [],
   "source": [
    "df.groupby(['Customer Age Group'])['Total Sales'].sum()"
   ]
  },
  {
   "cell_type": "code",
   "execution_count": null,
   "id": "87670516-8e81-4389-8c92-0ce18d1556ed",
   "metadata": {},
   "outputs": [],
   "source": [
    "df.groupby(['Customer Age Group'])['Invoice Number'].nunique()"
   ]
  },
  {
   "cell_type": "code",
   "execution_count": 693,
   "id": "7ccdd35d-d7ae-4e8a-bec7-b48ac6658f75",
   "metadata": {},
   "outputs": [
    {
     "data": {
      "text/plain": [
       "Customer Age Group\n",
       "18-25    242.739245\n",
       "26-35    240.071888\n",
       "36-45    240.871977\n",
       "46-55    238.054531\n",
       "56+      244.859242\n",
       "dtype: float64"
      ]
     },
     "execution_count": 693,
     "metadata": {},
     "output_type": "execute_result"
    }
   ],
   "source": [
    "df.groupby(['Customer Age Group'])['Total Sales'].sum()/df.groupby(['Customer Age Group'])['Invoice Number'].nunique()"
   ]
  },
  {
   "cell_type": "code",
   "execution_count": 695,
   "id": "e8bef93c-8a19-4c86-91af-dff2c3c806c7",
   "metadata": {},
   "outputs": [
    {
     "data": {
      "text/plain": [
       "Sales Channel\n",
       "In-Store    241.59057\n",
       "Online      240.65885\n",
       "dtype: float64"
      ]
     },
     "execution_count": 695,
     "metadata": {},
     "output_type": "execute_result"
    }
   ],
   "source": [
    "df.groupby(['Sales Channel'])['Total Sales'].sum()/df.groupby(['Sales Channel'])['Invoice Number'].nunique()"
   ]
  },
  {
   "cell_type": "code",
   "execution_count": 697,
   "id": "a3ebd87b-6a17-4042-acc3-b646649008dc",
   "metadata": {},
   "outputs": [
    {
     "data": {
      "text/plain": [
       "Return Status\n",
       "Not Returned    240.87422\n",
       "Returned        252.28456\n",
       "dtype: float64"
      ]
     },
     "execution_count": 697,
     "metadata": {},
     "output_type": "execute_result"
    }
   ],
   "source": [
    "df.groupby(['Return Status'])['Total Sales'].sum()/df.groupby(['Return Status'])['Invoice Number'].nunique()"
   ]
  },
  {
   "cell_type": "code",
   "execution_count": 699,
   "id": "1e05179e-284d-4767-a45c-d6a71140ef5b",
   "metadata": {},
   "outputs": [
    {
     "data": {
      "text/plain": [
       "Customer Age Group  Sales Channel\n",
       "18-25               In-Store         243.692200\n",
       "                    Online           242.125317\n",
       "26-35               In-Store         242.167378\n",
       "                    Online           238.733238\n",
       "36-45               In-Store         239.199549\n",
       "                    Online           241.938486\n",
       "46-55               In-Store         239.684028\n",
       "                    Online           236.986554\n",
       "56+                 In-Store         243.464781\n",
       "                    Online           245.801695\n",
       "dtype: float64"
      ]
     },
     "execution_count": 699,
     "metadata": {},
     "output_type": "execute_result"
    }
   ],
   "source": [
    "df.groupby(['Customer Age Group','Sales Channel'])['Total Sales'].sum()/df.groupby(['Customer Age Group','Sales Channel'])['Invoice Number'].nunique()"
   ]
  },
  {
   "cell_type": "code",
   "execution_count": 785,
   "id": "8c1ce25f-9b49-45e8-98da-29aa7f5c812c",
   "metadata": {},
   "outputs": [
    {
     "data": {
      "text/plain": [
       "Customer ID\n",
       "1      233.806491\n",
       "2      257.359936\n",
       "3      243.958333\n",
       "4      270.271771\n",
       "5      268.340879\n",
       "          ...    \n",
       "96     249.766309\n",
       "97     255.393558\n",
       "98     240.756391\n",
       "99     248.978205\n",
       "100    267.176354\n",
       "Length: 100, dtype: float64"
      ]
     },
     "execution_count": 785,
     "metadata": {},
     "output_type": "execute_result"
    }
   ],
   "source": [
    "df.groupby(['Customer ID'])['Total Sales'].sum()/df.groupby(['Customer ID'])['Invoice Number'].nunique()"
   ]
  },
  {
   "cell_type": "code",
   "execution_count": 787,
   "id": "fa9d412e-50c3-4f9c-aecf-a687f72dbdf1",
   "metadata": {},
   "outputs": [],
   "source": [
    "premium_customers = df.groupby(['Customer ID'])['Total Sales'].sum()/df.groupby(['Customer ID'])['Invoice Number'].nunique()"
   ]
  },
  {
   "cell_type": "code",
   "execution_count": 789,
   "id": "e4186d3c-2df6-444e-8328-af8e60ffae25",
   "metadata": {},
   "outputs": [
    {
     "data": {
      "text/plain": [
       "Customer ID\n",
       "4      270.271771\n",
       "5      268.340879\n",
       "11     267.590429\n",
       "100    267.176354\n",
       "95     263.799677\n",
       "          ...    \n",
       "70     221.160893\n",
       "39     218.822948\n",
       "35     218.794052\n",
       "21     215.902250\n",
       "69     208.693620\n",
       "Length: 100, dtype: float64"
      ]
     },
     "execution_count": 789,
     "metadata": {},
     "output_type": "execute_result"
    }
   ],
   "source": [
    "premium_customers.sort_values(ascending = False)"
   ]
  },
  {
   "cell_type": "code",
   "execution_count": null,
   "id": "2956f4ff-c96f-419f-a844-5339dfe38c81",
   "metadata": {},
   "outputs": [],
   "source": [
    "premium_customers = df.groupby(['Customer ID'])['Total Sales'].sum()/df.groupby(['Customer ID'])['Invoice Number'].nunique()\n",
    "premium_customers_df = premium_customers.reset_index()\n",
    "premium_customers_df.columns = ['Customer ID', 'avg value of invoice']"
   ]
  },
  {
   "cell_type": "code",
   "execution_count": null,
   "id": "3082ec9d-3a8a-44e9-98cb-c2feb213e352",
   "metadata": {},
   "outputs": [],
   "source": [
    "premium_customers_df.to_csv(\"premium_customers_df\", index=False, encoding='utf-8')"
   ]
  },
  {
   "cell_type": "code",
   "execution_count": null,
   "id": "59388615-6fcb-4345-9853-84ac80ab4f5b",
   "metadata": {},
   "outputs": [],
   "source": []
  },
  {
   "cell_type": "markdown",
   "id": "ff01b86a-00b9-4ef1-8b5e-72819f2f5807",
   "metadata": {},
   "source": [
    "**3. Rate of Returned Products**"
   ]
  },
  {
   "cell_type": "code",
   "execution_count": 722,
   "id": "72e4b992-4a39-432a-ad6b-6d275ab2f446",
   "metadata": {},
   "outputs": [],
   "source": [
    "Return_rates_df=df[df['Return Status']=='Returned'].groupby('Product ID')['Invoice Number'].count()/df.groupby(['Product ID']).size()*100"
   ]
  },
  {
   "cell_type": "code",
   "execution_count": 736,
   "id": "2d9548bb-ad2f-497e-8317-0b56044734d1",
   "metadata": {},
   "outputs": [
    {
     "data": {
      "text/plain": [
       "Product ID\n",
       "1     3.726708\n",
       "3     4.670330\n",
       "4     2.180685\n",
       "5     2.981030\n",
       "14    1.791045\n",
       "15    1.851852\n",
       "19    3.856749\n",
       "21    1.347709\n",
       "22    2.981030\n",
       "24    3.254438\n",
       "25    1.994302\n",
       "26    1.547988\n",
       "31    3.225806\n",
       "36    4.519774\n",
       "38    5.000000\n",
       "46    3.273810\n",
       "49    4.021448\n",
       "dtype: float64"
      ]
     },
     "execution_count": 736,
     "metadata": {},
     "output_type": "execute_result"
    }
   ],
   "source": [
    "Return_rates_df[Return_rates_df.notnull()]"
   ]
  },
  {
   "cell_type": "code",
   "execution_count": 742,
   "id": "4cddd7c5-65f2-440b-a0e1-f7033d402cf8",
   "metadata": {},
   "outputs": [],
   "source": [
    "#Return_rates_df[Return_rates_df.isnull()]"
   ]
  },
  {
   "cell_type": "code",
   "execution_count": 744,
   "id": "2cd154f5-cc47-4f56-bffa-9dc0c65ee09d",
   "metadata": {},
   "outputs": [
    {
     "data": {
      "text/plain": [
       "Product Category  Sales Channel\n",
       "Accessories       In-Store          41\n",
       "                  Online            44\n",
       "Clothing          In-Store         176\n",
       "                  Online           182\n",
       "Footwear          In-Store         144\n",
       "                  Online           164\n",
       "Name: Quantity, dtype: int64"
      ]
     },
     "execution_count": 744,
     "metadata": {},
     "output_type": "execute_result"
    }
   ],
   "source": [
    "df[df['Return Status']==\"Returned\"].groupby(['Product Category','Sales Channel'])['Quantity'].sum()"
   ]
  },
  {
   "cell_type": "code",
   "execution_count": 746,
   "id": "aa6d2835-74f3-4441-91d1-886857031c27",
   "metadata": {},
   "outputs": [
    {
     "data": {
      "text/plain": [
       "Product Category  Sales Channel\n",
       "Accessories       In-Store         0.704710\n",
       "                  Online           0.507263\n",
       "Clothing          In-Store         1.906826\n",
       "                  Online           1.291055\n",
       "Footwear          In-Store         1.243953\n",
       "                  Online           0.918150\n",
       "Name: Quantity, dtype: float64"
      ]
     },
     "execution_count": 746,
     "metadata": {},
     "output_type": "execute_result"
    }
   ],
   "source": [
    "df[df['Return Status']==\"Returned\"].groupby(['Product Category','Sales Channel'])['Quantity'].sum()/df.groupby(['Product Category','Sales Channel'])['Quantity'].sum()*100"
   ]
  },
  {
   "cell_type": "markdown",
   "id": "3fd0943d-a33c-449e-8c07-f9e3ed4256a6",
   "metadata": {},
   "source": [
    "**4. Sales Growth by Region:**"
   ]
  },
  {
   "cell_type": "code",
   "execution_count": 753,
   "id": "1a7e3cee-feab-4b15-ac93-af422e674b1a",
   "metadata": {},
   "outputs": [
    {
     "data": {
      "text/plain": [
       "<Axes: title={'center': 'Sales by Channel & products'}, xlabel='Date Time'>"
      ]
     },
     "execution_count": 753,
     "metadata": {},
     "output_type": "execute_result"
    },
    {
     "data": {
      "image/png": "[encoded data removed]",
      "text/plain": [
       "<Figure size 640x480 with 1 Axes>"
      ]
     },
     "metadata": {},
     "output_type": "display_data"
    }
   ],
   "source": [
    "df.groupby([ df['Date Time'].dt.date,'Region'])['Total Sales'].sum().unstack().plot(kind='bar',stacked=True, title='Sales by Channel & products')"
   ]
  },
  {
   "cell_type": "code",
   "execution_count": 755,
   "id": "c4f8cd00-1d53-4c6a-b09e-b3080fdcb245",
   "metadata": {},
   "outputs": [
    {
     "data": {
      "text/plain": [
       "Date Time   Region\n",
       "2021-01-01  East      116346.96\n",
       "            North      70887.56\n",
       "            South      80313.98\n",
       "            West       88933.49\n",
       "2021-01-02  East      125071.43\n",
       "            North      68099.70\n",
       "            South      70985.92\n",
       "            West       95527.21\n",
       "2021-01-03  East      125585.37\n",
       "            North      80207.03\n",
       "            South      70570.44\n",
       "            West       94150.29\n",
       "2021-01-04  East      137972.66\n",
       "            North      70446.56\n",
       "            South      72894.39\n",
       "            West       88866.00\n",
       "2021-01-05  East      133439.98\n",
       "            North      75553.59\n",
       "            South      78710.20\n",
       "            West       86118.08\n",
       "2021-01-06  East      135701.38\n",
       "            North      82007.29\n",
       "            South      80321.11\n",
       "            West       84419.26\n",
       "2021-01-07  East      138928.77\n",
       "            North      76739.73\n",
       "            South      73731.04\n",
       "            West       92963.94\n",
       "2021-01-08  East      137711.39\n",
       "            North      68069.18\n",
       "            South      71011.24\n",
       "            West       81383.89\n",
       "2021-01-09  East      127008.02\n",
       "            North      73361.40\n",
       "            South      68844.76\n",
       "            West       92081.55\n",
       "2021-01-10  East      141193.54\n",
       "            North      65036.85\n",
       "            South      69600.91\n",
       "            West       98692.15\n",
       "2021-01-11  East      128298.97\n",
       "            North      69381.21\n",
       "            South      67423.41\n",
       "            West       98507.49\n",
       "Name: Total Sales, dtype: float64"
      ]
     },
     "execution_count": 755,
     "metadata": {},
     "output_type": "execute_result"
    }
   ],
   "source": [
    "df.groupby([ df['Date Time'].dt.date,'Region'])['Total Sales'].sum()"
   ]
  },
  {
   "cell_type": "code",
   "execution_count": 757,
   "id": "025593e3-6a14-492a-8094-9a9b7c9bb754",
   "metadata": {},
   "outputs": [
    {
     "data": {
      "text/plain": [
       "<Axes: title={'center': 'Daily Sales Growth in Each Region'}, xlabel='Date Time'>"
      ]
     },
     "execution_count": 757,
     "metadata": {},
     "output_type": "execute_result"
    },
    {
     "data": {
      "image/png": "[encoded data removed]",
      "text/plain": [
       "<Figure size 1200x600 with 1 Axes>"
      ]
     },
     "metadata": {},
     "output_type": "display_data"
    }
   ],
   "source": [
    "df.groupby([ df['Date Time'].dt.date,'Region'])['Total Sales'].sum().unstack().plot(\n",
    "    kind='line', figsize=(12, 6), marker='o', title=\"Daily Sales Growth in Each Region\"\n",
    ")"
   ]
  },
  {
   "cell_type": "code",
   "execution_count": 759,
   "id": "307158f4-590f-4c52-bbe5-35bef9ac1690",
   "metadata": {},
   "outputs": [
    {
     "data": {
      "text/plain": [
       "<Axes: title={'center': 'Daily Sales Growth by Product Category in East Region'}, xlabel='Date Time'>"
      ]
     },
     "execution_count": 759,
     "metadata": {},
     "output_type": "execute_result"
    },
    {
     "data": {
      "image/png": "[encoded data removed]",
      "text/plain": [
       "<Figure size 1200x600 with 1 Axes>"
      ]
     },
     "metadata": {},
     "output_type": "display_data"
    }
   ],
   "source": [
    "df[df['Region'] == \"East\"].groupby([df['Date Time'].dt.date, 'Product Category'])['Total Sales'].sum().unstack().plot(\n",
    "    kind='line', figsize=(12, 6), marker='o', title=\"Daily Sales Growth by Product Category in East Region\"\n",
    ")"
   ]
  },
  {
   "cell_type": "code",
   "execution_count": null,
   "id": "3bd3e1b1-28d1-4fdb-9083-3492b38f1304",
   "metadata": {},
   "outputs": [],
   "source": []
  },
  {
   "cell_type": "code",
   "execution_count": 793,
   "id": "c75f02a4-4a45-4b67-86e5-cc22934bea72",
   "metadata": {},
   "outputs": [
    {
     "data": {
      "text/plain": [
       "Invoice Number        16816\n",
       "Date Time              9994\n",
       "Customer ID             100\n",
       "Product ID               50\n",
       "Quantity                  7\n",
       "Price per Unit         7008\n",
       "Return Status             2\n",
       "Sales Channel             2\n",
       "Total Sales           12782\n",
       "Customer Age Group        5\n",
       "Region                    4\n",
       "Product Category          3\n",
       "dtype: int64"
      ]
     },
     "execution_count": 793,
     "metadata": {},
     "output_type": "execute_result"
    }
   ],
   "source": [
    "df.nunique()"
   ]
  },
  {
   "cell_type": "code",
   "execution_count": null,
   "id": "11115889-4cbc-4655-9ca8-5af461f56088",
   "metadata": {},
   "outputs": [],
   "source": []
  },
  {
   "cell_type": "code",
   "execution_count": 765,
   "id": "7942b265-d6be-4565-a455-0929eb98b37c",
   "metadata": {},
   "outputs": [],
   "source": []
  },
  {
   "cell_type": "code",
   "execution_count": 767,
   "id": "e695f811-6fac-4974-b091-b5df614702e5",
   "metadata": {},
   "outputs": [
    {
     "data": {
      "text/plain": [
       "Series([], Name: Sales Channel, dtype: int64)"
      ]
     },
     "execution_count": 767,
     "metadata": {},
     "output_type": "execute_result"
    }
   ],
   "source": []
  },
  {
   "cell_type": "code",
   "execution_count": 761,
   "id": "28d0dbf9-b403-4645-bfac-d86803d32dad",
   "metadata": {},
   "outputs": [
    {
     "data": {
      "text/plain": [
       "Index(['Invoice Number', 'Date Time', 'Customer ID', 'Product ID', 'Quantity',\n",
       "       'Price per Unit', 'Return Status', 'Sales Channel', 'Total Sales',\n",
       "       'Customer Age Group', 'Region', 'Product Category'],\n",
       "      dtype='object')"
      ]
     },
     "execution_count": 761,
     "metadata": {},
     "output_type": "execute_result"
    }
   ],
   "source": [
    "df.columns"
   ]
  },
  {
   "cell_type": "code",
   "execution_count": null,
   "id": "3791b76e-32a2-4d2a-a83c-fd093db7cba5",
   "metadata": {},
   "outputs": [],
   "source": []
  }
 ],
 "metadata": {
  "kernelspec": {
   "display_name": "Python [conda env:base] *",
   "language": "python",
   "name": "conda-base-py"
  },
  "language_info": {
   "codemirror_mode": {
    "name": "ipython",
    "version": 3
   },
   "file_extension": ".py",
   "mimetype": "text/x-python",
   "name": "python",
   "nbconvert_exporter": "python",
   "pygments_lexer": "ipython3",
   "version": "3.12.7"
  }
 },
 "nbformat": 4,
 "nbformat_minor": 5
}
